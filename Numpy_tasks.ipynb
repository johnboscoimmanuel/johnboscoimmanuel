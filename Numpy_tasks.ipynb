{
  "cells": [
    {
      "cell_type": "markdown",
      "metadata": {
        "id": "view-in-github",
        "colab_type": "text"
      },
      "source": [
        "<a href=\"https://colab.research.google.com/github/johnboscoimmanuel/johnboscoimmanuel/blob/main/Numpy_tasks.ipynb\" target=\"_parent\"><img src=\"https://colab.research.google.com/assets/colab-badge.svg\" alt=\"Open In Colab\"/></a>"
      ]
    },
    {
      "cell_type": "markdown",
      "metadata": {
        "id": "0aX3meTCIYZC"
      },
      "source": [
        "# Numpy\n",
        "\n"
      ]
    },
    {
      "cell_type": "markdown",
      "metadata": {
        "id": "WSe0zWWDIYZT"
      },
      "source": [
        "#### 1. Import the numpy package under the name `np` (★☆☆) \n",
        "(**hint**: import … as …)"
      ]
    },
    {
      "cell_type": "code",
      "execution_count": 9,
      "metadata": {
        "collapsed": true,
        "id": "6VdzFOraIYZX"
      },
      "outputs": [],
      "source": [
        "import numpy as np"
      ]
    },
    {
      "cell_type": "markdown",
      "metadata": {
        "id": "98dvX5u5IYZa"
      },
      "source": [
        "#### 2. Print the numpy version and the configuration (★☆☆) \n",
        "(**hint**: np.\\_\\_version\\_\\_, np.show\\_config)"
      ]
    },
    {
      "cell_type": "code",
      "execution_count": 133,
      "metadata": {
        "colab": {
          "base_uri": "https://localhost:8080/"
        },
        "id": "ZVvSGLlrIYZc",
        "outputId": "065ac7a0-661c-4f8d-a0b9-ee115f757be5"
      },
      "outputs": [
        {
          "output_type": "stream",
          "name": "stdout",
          "text": [
            "1.19.5 <function show at 0x7ff584337320>\n"
          ]
        }
      ],
      "source": [
        "print(np.__version__,np.show_config)"
      ]
    },
    {
      "cell_type": "markdown",
      "metadata": {
        "id": "bTYn5XgYIYZd"
      },
      "source": [
        "#### 3. Create a null vector of size 10 (★☆☆) \n",
        "(**hint**: np.zeros)"
      ]
    },
    {
      "cell_type": "code",
      "execution_count": 134,
      "metadata": {
        "colab": {
          "base_uri": "https://localhost:8080/"
        },
        "id": "t_Lt1pUIIYZf",
        "outputId": "2ceca010-c1d1-42ce-de67-41e66efc8b8d"
      },
      "outputs": [
        {
          "output_type": "execute_result",
          "data": {
            "text/plain": [
              "array([0., 0., 0., 0., 0., 0., 0., 0., 0., 0.])"
            ]
          },
          "metadata": {},
          "execution_count": 134
        }
      ],
      "source": [
        "np.zeros(10)"
      ]
    },
    {
      "cell_type": "markdown",
      "metadata": {
        "id": "I2rn3-LGIYZh"
      },
      "source": [
        "#### 4.  How to find the memory size of any array (★☆☆) \n",
        "(**hint**: size, itemsize)"
      ]
    },
    {
      "cell_type": "code",
      "execution_count": 135,
      "metadata": {
        "colab": {
          "base_uri": "https://localhost:8080/"
        },
        "id": "qVHp41umIYZj",
        "outputId": "aa38b415-34f4-49ee-bc50-4c149aab6595"
      },
      "outputs": [
        {
          "output_type": "stream",
          "name": "stdout",
          "text": [
            "10\n"
          ]
        },
        {
          "output_type": "execute_result",
          "data": {
            "text/plain": [
              "8"
            ]
          },
          "metadata": {},
          "execution_count": 135
        }
      ],
      "source": [
        "n=np.arange(10)\n",
        "print(n.size)\n",
        "n.itemsize"
      ]
    },
    {
      "cell_type": "markdown",
      "metadata": {
        "id": "a6fBUcrUIYZl"
      },
      "source": [
        "#### 5.  How to get the documentation of the numpy add function from the command line? (★☆☆) \n",
        "(**hint**: np.info)"
      ]
    },
    {
      "cell_type": "code",
      "execution_count": 136,
      "metadata": {
        "collapsed": true,
        "id": "J1WCJryrIYZn"
      },
      "outputs": [],
      "source": [
        "np.info()"
      ]
    },
    {
      "cell_type": "markdown",
      "metadata": {
        "id": "szyDaf15IYZo"
      },
      "source": [
        "#### 6.  Create a null vector of size 10 but the fifth value which is 1 (★☆☆) \n",
        "(**hint**: array\\[4\\])"
      ]
    },
    {
      "cell_type": "code",
      "execution_count": 137,
      "metadata": {
        "colab": {
          "base_uri": "https://localhost:8080/"
        },
        "id": "0TLL8S9JIYZq",
        "outputId": "d35e5640-0861-4495-b6a7-cc4de2fe6ea9"
      },
      "outputs": [
        {
          "output_type": "execute_result",
          "data": {
            "text/plain": [
              "array([0., 0., 0., 0., 1., 0., 0., 0., 0., 0.])"
            ]
          },
          "metadata": {},
          "execution_count": 137
        }
      ],
      "source": [
        "a=np.zeros(10)\n",
        "a[4]=1\n",
        "a"
      ]
    },
    {
      "cell_type": "markdown",
      "metadata": {
        "id": "mMU0fxi-IYZs"
      },
      "source": [
        "#### 7.  Create a vector with values ranging from 10 to 49 (★☆☆) \n",
        "(**hint**: np.arange)"
      ]
    },
    {
      "cell_type": "code",
      "execution_count": 138,
      "metadata": {
        "colab": {
          "base_uri": "https://localhost:8080/"
        },
        "id": "oRMwRz-5IYZu",
        "outputId": "06f99691-dc02-4b9d-f653-3261a70e30cc"
      },
      "outputs": [
        {
          "output_type": "execute_result",
          "data": {
            "text/plain": [
              "array([10, 11, 12, 13, 14, 15, 16, 17, 18, 19, 20, 21, 22, 23, 24, 25, 26,\n",
              "       27, 28, 29, 30, 31, 32, 33, 34, 35, 36, 37, 38, 39, 40, 41, 42, 43,\n",
              "       44, 45, 46, 47, 48, 49])"
            ]
          },
          "metadata": {},
          "execution_count": 138
        }
      ],
      "source": [
        "a=np.arange(10,50)\n",
        "a"
      ]
    },
    {
      "cell_type": "markdown",
      "metadata": {
        "id": "aBeAF0umIYZv"
      },
      "source": [
        "#### 8.  Reverse a vector (first element becomes last) (★☆☆) \n",
        "(**hint**: array\\[::-1\\])"
      ]
    },
    {
      "cell_type": "code",
      "execution_count": 139,
      "metadata": {
        "colab": {
          "base_uri": "https://localhost:8080/"
        },
        "id": "_mc1VqifIYZw",
        "outputId": "e7d2f9ac-237d-49be-a1c4-d93a0a36555b"
      },
      "outputs": [
        {
          "output_type": "execute_result",
          "data": {
            "text/plain": [
              "array([49, 48, 47, 46, 45, 44, 43, 42, 41, 40, 39, 38, 37, 36, 35, 34, 33,\n",
              "       32, 31, 30, 29, 28, 27, 26, 25, 24, 23, 22, 21, 20, 19, 18, 17, 16,\n",
              "       15, 14, 13, 12, 11, 10])"
            ]
          },
          "metadata": {},
          "execution_count": 139
        }
      ],
      "source": [
        "a[::-1]"
      ]
    },
    {
      "cell_type": "markdown",
      "metadata": {
        "id": "huuAJzb5IYZw"
      },
      "source": [
        "#### 9.  Create a 3x3 matrix with values ranging from 0 to 8 (★☆☆) \n",
        "(**hint**: reshape)"
      ]
    },
    {
      "cell_type": "code",
      "execution_count": 139,
      "metadata": {
        "id": "I_VWDS1mIYZx"
      },
      "outputs": [],
      "source": [
        ""
      ]
    },
    {
      "cell_type": "markdown",
      "metadata": {
        "id": "Zo8YLz9eIYZy"
      },
      "source": [
        "#### 10. Find indices of non-zero elements from \\[1,2,0,0,4,0\\] (★☆☆) \n",
        "(**hint**: np.nonzero)"
      ]
    },
    {
      "cell_type": "code",
      "execution_count": 140,
      "metadata": {
        "colab": {
          "base_uri": "https://localhost:8080/"
        },
        "id": "Hj3Nwt8eIYZz",
        "outputId": "96e1c3c9-1d1b-4036-b9b3-8c14c7b9e0be"
      },
      "outputs": [
        {
          "output_type": "execute_result",
          "data": {
            "text/plain": [
              "(array([0, 1, 4]),)"
            ]
          },
          "metadata": {},
          "execution_count": 140
        }
      ],
      "source": [
        "a=np.array([1,2,0,0,4,0])\n",
        "np.nonzero(a)"
      ]
    },
    {
      "cell_type": "markdown",
      "metadata": {
        "id": "y626_97iIYZz"
      },
      "source": [
        "#### 11. Create a 3x3 identity matrix (★☆☆) \n",
        "(**hint**: np.eye)"
      ]
    },
    {
      "cell_type": "code",
      "execution_count": 141,
      "metadata": {
        "colab": {
          "base_uri": "https://localhost:8080/"
        },
        "id": "W3GYIC7qIYZ0",
        "outputId": "aa7ba44f-bf1f-443b-f26c-6e32cdbd814f"
      },
      "outputs": [
        {
          "output_type": "execute_result",
          "data": {
            "text/plain": [
              "array([[1., 0., 0.],\n",
              "       [0., 1., 0.],\n",
              "       [0., 0., 1.]])"
            ]
          },
          "metadata": {},
          "execution_count": 141
        }
      ],
      "source": [
        "a=np.eye(3,3)\n",
        "a"
      ]
    },
    {
      "cell_type": "markdown",
      "metadata": {
        "id": "yuE4Ma5sIYZ1"
      },
      "source": [
        "#### 12. Create a 3x3x3 array with random values (★☆☆) \n",
        "(**hint**: np.random.random)"
      ]
    },
    {
      "cell_type": "code",
      "execution_count": 142,
      "metadata": {
        "collapsed": true,
        "colab": {
          "base_uri": "https://localhost:8080/"
        },
        "id": "rlAoGOHWIYZ1",
        "outputId": "7336aa61-b966-4fc3-a305-1c379345c572"
      },
      "outputs": [
        {
          "output_type": "execute_result",
          "data": {
            "text/plain": [
              "array([[[0.52315445, 0.05002385, 0.90873726],\n",
              "        [0.25471628, 0.54272128, 0.68406289],\n",
              "        [0.60477155, 0.48067948, 0.19259754]],\n",
              "\n",
              "       [[0.60663885, 0.88559645, 0.49993229],\n",
              "        [0.51402518, 0.81273098, 0.01216599],\n",
              "        [0.28021162, 0.01559342, 0.02581661]],\n",
              "\n",
              "       [[0.69964998, 0.15066065, 0.4790592 ],\n",
              "        [0.53253172, 0.29057742, 0.21308218],\n",
              "        [0.59694467, 0.02846825, 0.46333307]]])"
            ]
          },
          "metadata": {},
          "execution_count": 142
        }
      ],
      "source": [
        "a=np.random.random((3,3,3))\n",
        "a"
      ]
    },
    {
      "cell_type": "markdown",
      "metadata": {
        "id": "uT6t2Cl-IYZ1"
      },
      "source": [
        "#### 13. Create a 10x10 array with random values and find the minimum and maximum values (★☆☆) \n",
        "(**hint**: min, max)"
      ]
    },
    {
      "cell_type": "code",
      "execution_count": 143,
      "metadata": {
        "colab": {
          "base_uri": "https://localhost:8080/"
        },
        "id": "xScL-JO-IYZ2",
        "outputId": "21a17598-8cea-4397-daeb-f44aa387cc19"
      },
      "outputs": [
        {
          "output_type": "stream",
          "name": "stdout",
          "text": [
            "0.0019044859475846332\n",
            "0.9828067095974499\n"
          ]
        }
      ],
      "source": [
        "a=np.random.random(100).reshape(10,10)\n",
        "print(np.min(a))\n",
        "print(np.max(a))"
      ]
    },
    {
      "cell_type": "markdown",
      "metadata": {
        "id": "aeZKJpwGIYZ3"
      },
      "source": [
        "#### 14. Create a random vector of size 30 and find the mean value (★☆☆) \n",
        "(**hint**: mean)"
      ]
    },
    {
      "cell_type": "code",
      "execution_count": 144,
      "metadata": {
        "colab": {
          "base_uri": "https://localhost:8080/"
        },
        "id": "hWlq-sBnIYZ5",
        "outputId": "8815fbed-6020-48bd-c6d1-5ea39ec92665"
      },
      "outputs": [
        {
          "output_type": "stream",
          "name": "stdout",
          "text": [
            "0.5209634494428587\n"
          ]
        },
        {
          "output_type": "execute_result",
          "data": {
            "text/plain": [
              "0.5209634494428587"
            ]
          },
          "metadata": {},
          "execution_count": 144
        }
      ],
      "source": [
        "a=np.random.random(30)\n",
        "print(np.mean(a))\n",
        "a.mean()"
      ]
    },
    {
      "cell_type": "markdown",
      "metadata": {
        "id": "mk_Sy1n_IYZ5"
      },
      "source": [
        "#### 15. Create a 2d array with 1 on the border and 0 inside (★☆☆) \n",
        "(**hint**: array\\[1:-1, 1:-1\\])"
      ]
    },
    {
      "cell_type": "code",
      "execution_count": 145,
      "metadata": {
        "colab": {
          "base_uri": "https://localhost:8080/"
        },
        "id": "ByLnvdq9IYZ6",
        "outputId": "b1b280f5-bde9-4376-c7d3-b60925e9a3d7"
      },
      "outputs": [
        {
          "output_type": "execute_result",
          "data": {
            "text/plain": [
              "array([[1., 1., 1., 1., 1., 1., 1., 1., 1., 1.],\n",
              "       [1., 0., 0., 0., 0., 0., 0., 0., 0., 1.],\n",
              "       [1., 0., 0., 0., 0., 0., 0., 0., 0., 1.],\n",
              "       [1., 0., 0., 0., 0., 0., 0., 0., 0., 1.],\n",
              "       [1., 0., 0., 0., 0., 0., 0., 0., 0., 1.],\n",
              "       [1., 0., 0., 0., 0., 0., 0., 0., 0., 1.],\n",
              "       [1., 0., 0., 0., 0., 0., 0., 0., 0., 1.],\n",
              "       [1., 0., 0., 0., 0., 0., 0., 0., 0., 1.],\n",
              "       [1., 0., 0., 0., 0., 0., 0., 0., 0., 1.],\n",
              "       [1., 1., 1., 1., 1., 1., 1., 1., 1., 1.]])"
            ]
          },
          "metadata": {},
          "execution_count": 145
        }
      ],
      "source": [
        "a=np.ones(100).reshape(10,10)\n",
        "a[1:-1,1:-1]=0\n",
        "a"
      ]
    },
    {
      "cell_type": "markdown",
      "metadata": {
        "id": "Gy3xF2KyIYZ7"
      },
      "source": [
        "#### 16. How to add a border (filled with 0's) around an existing array? (★☆☆) \n",
        "(**hint**: np.pad)"
      ]
    },
    {
      "cell_type": "code",
      "execution_count": 146,
      "metadata": {
        "colab": {
          "base_uri": "https://localhost:8080/"
        },
        "id": "bowH76oKIYZ8",
        "outputId": "fdafb4f3-48fc-45d1-e5e9-62d230c63350"
      },
      "outputs": [
        {
          "output_type": "execute_result",
          "data": {
            "text/plain": [
              "array([[0., 0., 0., 0., 0., 0., 0.],\n",
              "       [0., 1., 1., 1., 1., 1., 0.],\n",
              "       [0., 1., 1., 1., 1., 1., 0.],\n",
              "       [0., 1., 1., 1., 1., 1., 0.],\n",
              "       [0., 1., 1., 1., 1., 1., 0.],\n",
              "       [0., 1., 1., 1., 1., 1., 0.],\n",
              "       [0., 0., 0., 0., 0., 0., 0.]])"
            ]
          },
          "metadata": {},
          "execution_count": 146
        }
      ],
      "source": [
        "a=np.ones((5,5))\n",
        "b=np.pad(a,pad_width=1,mode='constant')\n",
        "b"
      ]
    },
    {
      "cell_type": "markdown",
      "metadata": {
        "id": "9LeP5MLkIYZ8"
      },
      "source": [
        "#### 17. What is the result of the following expression? (★☆☆) \n",
        "(**hint**: NaN = not a number, inf = infinity)"
      ]
    },
    {
      "cell_type": "markdown",
      "metadata": {
        "id": "iFiG3UoaIYZ8"
      },
      "source": [
        "```python\n",
        "0 * np.nan\n",
        "np.nan == np.nan\n",
        "np.inf > np.nan\n",
        "np.nan - np.nan\n",
        "0.3 == 3 * 0.1\n",
        "```"
      ]
    },
    {
      "cell_type": "code",
      "execution_count": 147,
      "metadata": {
        "colab": {
          "base_uri": "https://localhost:8080/"
        },
        "id": "KSD0Jf_dIYZ9",
        "outputId": "75efd7cc-322d-48fa-c2d0-9eaac38e938a"
      },
      "outputs": [
        {
          "output_type": "stream",
          "name": "stdout",
          "text": [
            "nan\n",
            "False\n",
            "False\n",
            "nan\n",
            "False\n"
          ]
        }
      ],
      "source": [
        "print(0 * np.nan)\n",
        "print(np.nan == np.nan)\n",
        "print(np.inf > np.nan)\n",
        "print(np.nan - np.nan)\n",
        "print(0.3 == 3 * 0.1)"
      ]
    },
    {
      "cell_type": "markdown",
      "metadata": {
        "id": "2_8ciGK4IYZ-"
      },
      "source": [
        "#### 18. Create a 5x5 matrix with values 1,2,3,4 just below the diagonal (★☆☆) \n",
        "(**hint**: np.diag)"
      ]
    },
    {
      "cell_type": "code",
      "execution_count": 148,
      "metadata": {
        "colab": {
          "base_uri": "https://localhost:8080/"
        },
        "id": "0ue1Jt1JIYZ_",
        "outputId": "4982112b-e63b-4bef-e7fd-26327140b61d"
      },
      "outputs": [
        {
          "output_type": "stream",
          "name": "stdout",
          "text": [
            "[[0 0 0 0 0]\n",
            " [1 0 0 0 0]\n",
            " [0 2 0 0 0]\n",
            " [0 0 3 0 0]\n",
            " [0 0 0 4 0]]\n"
          ]
        }
      ],
      "source": [
        "\n",
        "\n",
        "Z = np.diag(np.arange(4)+1,k=-1)\n",
        "print(Z)"
      ]
    },
    {
      "cell_type": "markdown",
      "metadata": {
        "id": "-dL8VPujIYaA"
      },
      "source": [
        "#### 19. Create a 8x8 matrix and fill it with a checkerboard pattern (★☆☆) \n",
        "(**hint**: array\\[::2\\])"
      ]
    },
    {
      "cell_type": "code",
      "execution_count": 149,
      "metadata": {
        "colab": {
          "base_uri": "https://localhost:8080/"
        },
        "id": "bKGtMh_QIYaB",
        "outputId": "8b45effa-60bc-4cde-8a1e-654aa7a8bb2d"
      },
      "outputs": [
        {
          "output_type": "execute_result",
          "data": {
            "text/plain": [
              "array([[0., 1., 0., 1., 0., 1., 0., 1.],\n",
              "       [1., 0., 1., 0., 1., 0., 1., 0.],\n",
              "       [0., 1., 0., 1., 0., 1., 0., 1.],\n",
              "       [1., 0., 1., 0., 1., 0., 1., 0.],\n",
              "       [0., 1., 0., 1., 0., 1., 0., 1.],\n",
              "       [1., 0., 1., 0., 1., 0., 1., 0.],\n",
              "       [0., 1., 0., 1., 0., 1., 0., 1.],\n",
              "       [1., 0., 1., 0., 1., 0., 1., 0.]])"
            ]
          },
          "metadata": {},
          "execution_count": 149
        }
      ],
      "source": [
        "a=np.zeros((8,8))\n",
        "a[1::2,::2]=1\n",
        "a[::2,1::2]=1\n",
        "a"
      ]
    },
    {
      "cell_type": "markdown",
      "metadata": {
        "id": "UVtxk6HaIYaC"
      },
      "source": [
        "#### 20. Consider a (6,7,8) shape array, what is the index (x,y,z) of the 100th element? \n",
        "(**hint**: np.unravel_index)"
      ]
    },
    {
      "cell_type": "code",
      "execution_count": 150,
      "metadata": {
        "colab": {
          "base_uri": "https://localhost:8080/"
        },
        "id": "E2X6nIk3IYaD",
        "outputId": "f1912eeb-5317-4f6d-a99b-26563f71c354"
      },
      "outputs": [
        {
          "output_type": "stream",
          "name": "stdout",
          "text": [
            "(1, 5, 4)\n"
          ]
        }
      ],
      "source": [
        "print(np.unravel_index(100,(6,7,8)))"
      ]
    },
    {
      "cell_type": "markdown",
      "metadata": {
        "id": "X7LaOVcvIYaD"
      },
      "source": [
        "#### 21. Create a checkerboard 8x8 matrix using the tile function (★☆☆) \n",
        "(**hint**: np.tile)"
      ]
    },
    {
      "cell_type": "code",
      "execution_count": 151,
      "metadata": {
        "colab": {
          "base_uri": "https://localhost:8080/"
        },
        "id": "NwFtdTLIIYaE",
        "outputId": "deba95c5-febc-40d5-b37e-8bc4eb867cf9"
      },
      "outputs": [
        {
          "output_type": "execute_result",
          "data": {
            "text/plain": [
              "array([[0, 1, 0, 1, 0, 1, 0, 1, 0, 1, 0, 1, 0, 1, 0, 1],\n",
              "       [0, 1, 0, 1, 0, 1, 0, 1, 0, 1, 0, 1, 0, 1, 0, 1],\n",
              "       [0, 1, 0, 1, 0, 1, 0, 1, 0, 1, 0, 1, 0, 1, 0, 1],\n",
              "       [0, 1, 0, 1, 0, 1, 0, 1, 0, 1, 0, 1, 0, 1, 0, 1],\n",
              "       [0, 1, 0, 1, 0, 1, 0, 1, 0, 1, 0, 1, 0, 1, 0, 1],\n",
              "       [0, 1, 0, 1, 0, 1, 0, 1, 0, 1, 0, 1, 0, 1, 0, 1],\n",
              "       [0, 1, 0, 1, 0, 1, 0, 1, 0, 1, 0, 1, 0, 1, 0, 1],\n",
              "       [0, 1, 0, 1, 0, 1, 0, 1, 0, 1, 0, 1, 0, 1, 0, 1],\n",
              "       [0, 1, 0, 1, 0, 1, 0, 1, 0, 1, 0, 1, 0, 1, 0, 1],\n",
              "       [0, 1, 0, 1, 0, 1, 0, 1, 0, 1, 0, 1, 0, 1, 0, 1],\n",
              "       [0, 1, 0, 1, 0, 1, 0, 1, 0, 1, 0, 1, 0, 1, 0, 1],\n",
              "       [0, 1, 0, 1, 0, 1, 0, 1, 0, 1, 0, 1, 0, 1, 0, 1],\n",
              "       [0, 1, 0, 1, 0, 1, 0, 1, 0, 1, 0, 1, 0, 1, 0, 1],\n",
              "       [0, 1, 0, 1, 0, 1, 0, 1, 0, 1, 0, 1, 0, 1, 0, 1],\n",
              "       [0, 1, 0, 1, 0, 1, 0, 1, 0, 1, 0, 1, 0, 1, 0, 1],\n",
              "       [0, 1, 0, 1, 0, 1, 0, 1, 0, 1, 0, 1, 0, 1, 0, 1]])"
            ]
          },
          "metadata": {},
          "execution_count": 151
        }
      ],
      "source": [
        "\n",
        "b=np.tile([[0,1],[0,1]],(8,8))\n",
        "b"
      ]
    },
    {
      "cell_type": "markdown",
      "metadata": {
        "id": "ttXKqdoEIYaF"
      },
      "source": [
        "#### 22. Normalize a 5x5 random matrix (★☆☆) \n",
        "(**hint**: (x - min) / (max - min))"
      ]
    },
    {
      "cell_type": "code",
      "execution_count": 152,
      "metadata": {
        "colab": {
          "base_uri": "https://localhost:8080/"
        },
        "id": "u_AQbaolIYaG",
        "outputId": "cfab2145-c683-4c68-ce3d-792f837de083"
      },
      "outputs": [
        {
          "output_type": "stream",
          "name": "stdout",
          "text": [
            "[[2.61033511e-01 8.77187029e-01 3.50413014e-01 3.80206812e-05\n",
            "  9.41439921e-01]\n",
            " [3.08096286e-01 6.01357043e-01 8.22146764e-01 1.89623406e-01\n",
            "  9.98451414e-01]\n",
            " [3.31308670e-01 1.05031080e-01 1.00000000e+00 7.83398848e-01\n",
            "  9.83107387e-01]\n",
            " [8.45200467e-01 6.72691155e-01 7.93100397e-01 1.59821391e-01\n",
            "  0.00000000e+00]\n",
            " [3.99441613e-01 5.51645171e-02 4.78076508e-01 9.10831646e-01\n",
            "  5.66258354e-01]]\n"
          ]
        }
      ],
      "source": [
        "a=np.random.random((5,5))\n",
        "b=a-a.min()\n",
        "c=a.max()-a.min()\n",
        "print(b/c)\n"
      ]
    },
    {
      "cell_type": "markdown",
      "metadata": {
        "id": "qM3uwKlwIYaG"
      },
      "source": [
        "#### 23. Create a custom dtype that describes a color as four unsigned bytes (RGBA) (★☆☆) \n",
        "(**hint**: np.dtype)"
      ]
    },
    {
      "cell_type": "code",
      "execution_count": 153,
      "metadata": {
        "collapsed": true,
        "colab": {
          "base_uri": "https://localhost:8080/"
        },
        "id": "VH4_jLYtIYaH",
        "outputId": "eec6fd04-45ba-4a5f-fba2-46156d7b9398"
      },
      "outputs": [
        {
          "output_type": "stream",
          "name": "stderr",
          "text": [
            "/usr/local/lib/python3.7/dist-packages/ipykernel_launcher.py:4: FutureWarning: Passing (type, 1) or '1type' as a synonym of type is deprecated; in a future version of numpy, it will be understood as (type, (1,)) / '(1,)type'.\n",
            "  after removing the cwd from sys.path.\n"
          ]
        },
        {
          "output_type": "execute_result",
          "data": {
            "text/plain": [
              "dtype([('r', 'u1'), ('g', 'u1'), ('b', 'u1'), ('a', 'u1')])"
            ]
          },
          "metadata": {},
          "execution_count": 153
        }
      ],
      "source": [
        "color = np.dtype([(\"r\", np.ubyte, 1),\n",
        "                  (\"g\", np.ubyte, 1),\n",
        "                  (\"b\", np.ubyte, 1),\n",
        "                  (\"a\", np.ubyte, 1)])\n",
        "color"
      ]
    },
    {
      "cell_type": "markdown",
      "metadata": {
        "id": "1FA4IDJkIYaI"
      },
      "source": [
        "#### 24. Multiply a 5x3 matrix by a 3x2 matrix (real matrix product) (★☆☆) \n",
        "(**hint**: np.dot | @)"
      ]
    },
    {
      "cell_type": "code",
      "execution_count": 154,
      "metadata": {
        "colab": {
          "base_uri": "https://localhost:8080/"
        },
        "id": "e7Ae2gHTIYaJ",
        "outputId": "9e755131-b74b-4009-f691-2574babc15f4"
      },
      "outputs": [
        {
          "output_type": "execute_result",
          "data": {
            "text/plain": [
              "array([[3., 3.],\n",
              "       [3., 3.],\n",
              "       [3., 3.],\n",
              "       [3., 3.],\n",
              "       [3., 3.]])"
            ]
          },
          "metadata": {},
          "execution_count": 154
        }
      ],
      "source": [
        "n=np.dot(np.ones((5,3)),np.ones((3,2)))\n",
        "n"
      ]
    },
    {
      "cell_type": "markdown",
      "metadata": {
        "id": "sf88xyMWIYaJ"
      },
      "source": [
        "#### 25. Given a 1D array, negate all elements which are between 3 and 8, in place. (★☆☆) \n",
        "(**hint**: >, <=)"
      ]
    },
    {
      "cell_type": "code",
      "execution_count": 155,
      "metadata": {
        "colab": {
          "base_uri": "https://localhost:8080/"
        },
        "id": "kSDVLw4EIYaK",
        "outputId": "be725f12-3cff-4297-cdf8-64d53ebdb822"
      },
      "outputs": [
        {
          "output_type": "stream",
          "name": "stdout",
          "text": [
            "[ 0  1  2  3 -4 -5 -6 -7 -8  9 10]\n"
          ]
        }
      ],
      "source": [
        "a=np.arange(11)\n",
        "a[(a>3) & (a<=8)]*=-1\n",
        "print(a)\n"
      ]
    },
    {
      "cell_type": "markdown",
      "metadata": {
        "id": "Zob-LAUPIYaL"
      },
      "source": [
        "#### 26. What is the output of the following script? (★☆☆) \n",
        "(**hint**: np.sum)"
      ]
    },
    {
      "cell_type": "markdown",
      "metadata": {
        "id": "XGwW0nBgIYaM"
      },
      "source": [
        "```python\n",
        "# Author: Jake VanderPlas\n",
        "\n",
        "print(sum(range(5),-1))\n",
        "from numpy import *\n",
        "print(sum(range(5),-1))\n",
        "```"
      ]
    },
    {
      "cell_type": "code",
      "execution_count": 156,
      "metadata": {
        "colab": {
          "base_uri": "https://localhost:8080/"
        },
        "id": "hMrd--GbIYaM",
        "outputId": "c655d1e8-6fa3-4df3-a991-fc5a5c17b0fb"
      },
      "outputs": [
        {
          "output_type": "stream",
          "name": "stdout",
          "text": [
            "10\n",
            "10\n"
          ]
        }
      ],
      "source": [
        "print(sum(range(5),-1))\n",
        "from numpy import *\n",
        "print(sum(range(5),-1))"
      ]
    },
    {
      "cell_type": "markdown",
      "metadata": {
        "id": "L0RwJ87SIYaN"
      },
      "source": [
        "#### 27. Consider an integer vector Z, which of these expressions are legal? (★☆☆)"
      ]
    },
    {
      "cell_type": "markdown",
      "metadata": {
        "id": "6cJBzMy1IYaO"
      },
      "source": [
        "```python\n",
        "Z**Z\n",
        "2 << Z >> 2\n",
        "Z <- Z\n",
        "1j*Z\n",
        "Z/1/1\n",
        "Z<Z>Z\n",
        "```"
      ]
    },
    {
      "cell_type": "code",
      "execution_count": 121,
      "metadata": {
        "colab": {
          "base_uri": "https://localhost:8080/",
          "height": 287
        },
        "id": "SaYARI21IYaO",
        "outputId": "75fe8835-721b-4811-d7df-549fe51e4137"
      },
      "outputs": [
        {
          "output_type": "stream",
          "name": "stdout",
          "text": [
            "[  1   1   4  27 256]\n",
            "[0 1 2 4 8]\n",
            "[False False False False False]\n",
            "[0.+0.j 0.+1.j 0.+2.j 0.+3.j 0.+4.j]\n",
            "[0. 1. 2. 3. 4.]\n"
          ]
        },
        {
          "output_type": "error",
          "ename": "ValueError",
          "evalue": "ignored",
          "traceback": [
            "\u001b[0;31m---------------------------------------------------------------------------\u001b[0m",
            "\u001b[0;31mValueError\u001b[0m                                Traceback (most recent call last)",
            "\u001b[0;32m<ipython-input-121-07bbd1ef5622>\u001b[0m in \u001b[0;36m<module>\u001b[0;34m()\u001b[0m\n\u001b[1;32m      6\u001b[0m \u001b[0mprint\u001b[0m\u001b[0;34m(\u001b[0m\u001b[0mZ\u001b[0m\u001b[0;34m/\u001b[0m\u001b[0;36m1\u001b[0m\u001b[0;34m/\u001b[0m\u001b[0;36m1\u001b[0m\u001b[0;34m)\u001b[0m\u001b[0;34m\u001b[0m\u001b[0;34m\u001b[0m\u001b[0m\n\u001b[1;32m      7\u001b[0m \u001b[0mz\u001b[0m\u001b[0;34m=\u001b[0m\u001b[0mnp\u001b[0m\u001b[0;34m.\u001b[0m\u001b[0marange\u001b[0m\u001b[0;34m(\u001b[0m\u001b[0;36m5\u001b[0m\u001b[0;34m)\u001b[0m\u001b[0;34m\u001b[0m\u001b[0;34m\u001b[0m\u001b[0m\n\u001b[0;32m----> 8\u001b[0;31m \u001b[0mz\u001b[0m\u001b[0;34m<\u001b[0m\u001b[0mz\u001b[0m\u001b[0;34m>\u001b[0m\u001b[0mz\u001b[0m\u001b[0;34m\u001b[0m\u001b[0;34m\u001b[0m\u001b[0m\n\u001b[0m",
            "\u001b[0;31mValueError\u001b[0m: The truth value of an array with more than one element is ambiguous. Use a.any() or a.all()"
          ]
        }
      ],
      "source": [
        "Z=np.arange(5)\n",
        "print(Z**Z)\n",
        "print(2 << Z >> 2)\n",
        "print(Z <- Z)\n",
        "print(1j*Z)\n",
        "print(Z/1/1)\n",
        "z=np.arange(5)\n",
        "z<z>z"
      ]
    },
    {
      "cell_type": "markdown",
      "metadata": {
        "id": "yznIUy0UIYaP"
      },
      "source": [
        "#### 28. What are the result of the following expressions?"
      ]
    },
    {
      "cell_type": "markdown",
      "metadata": {
        "id": "Zs9HrrSMIYaP"
      },
      "source": [
        "```python\n",
        "np.array(0) / np.array(0)\n",
        "np.array(0) // np.array(0)\n",
        "np.array([np.nan]).astype(int).astype(float)\n",
        "```"
      ]
    },
    {
      "cell_type": "code",
      "execution_count": 158,
      "metadata": {
        "colab": {
          "base_uri": "https://localhost:8080/"
        },
        "id": "6UTJ1X6xIYaQ",
        "outputId": "902b701e-4a8e-459d-c5bc-490c1f9d839b"
      },
      "outputs": [
        {
          "output_type": "stream",
          "name": "stdout",
          "text": [
            "nan\n",
            "0\n",
            "[-9.22337204e+18]\n"
          ]
        }
      ],
      "source": [
        "print(np.array(0) / np.array(0))\n",
        "\n",
        "print(np.array(0) // np.array(0))\n",
        "\n",
        "print(np.array([np.nan]).astype(int).astype(float))"
      ]
    },
    {
      "cell_type": "markdown",
      "metadata": {
        "id": "bf_wA4n1IYaR"
      },
      "source": [
        "#### 29. How to round away from zero a float array ? (★☆☆) \n",
        "(**hint**: np.uniform, np.copysign, np.ceil, np.abs)"
      ]
    },
    {
      "cell_type": "code",
      "execution_count": 159,
      "metadata": {
        "colab": {
          "base_uri": "https://localhost:8080/"
        },
        "id": "owUW03w2IYaZ",
        "outputId": "ba72fc2c-f057-4cec-d1ad-3c33c2fc66f5"
      },
      "outputs": [
        {
          "output_type": "stream",
          "name": "stdout",
          "text": [
            "[  9.   5.   5.  -3.   7.  -2.  -9. -10.   8.  -7.]\n"
          ]
        }
      ],
      "source": [
        "a=np.random.uniform(-10,+10,10)\n",
        "print(np.copysign(np.ceil(np.abs(a)),a))"
      ]
    },
    {
      "cell_type": "markdown",
      "metadata": {
        "id": "t8A_IWH2IYaZ"
      },
      "source": [
        "#### 30. How to find common values between two arrays? (★☆☆) \n",
        "(**hint**: np.intersect1d)"
      ]
    },
    {
      "cell_type": "code",
      "execution_count": 161,
      "metadata": {
        "colab": {
          "base_uri": "https://localhost:8080/"
        },
        "id": "2RmZ8PlUIYaa",
        "outputId": "b593685e-1095-46f5-ff8f-c93001e50f44"
      },
      "outputs": [
        {
          "output_type": "execute_result",
          "data": {
            "text/plain": [
              "array([0, 2, 3, 5, 9])"
            ]
          },
          "metadata": {},
          "execution_count": 161
        }
      ],
      "source": [
        "a=np.random.randint(0,10,10)\n",
        "a1=np.random.randint(0,10,10)\n",
        "n=np.intersect1d(a,a1)\n",
        "n"
      ]
    },
    {
      "cell_type": "markdown",
      "metadata": {
        "id": "JHeqwVUSIYaa"
      },
      "source": [
        "#### 31. How to ignore all numpy warnings (not recommended)? (★☆☆) \n",
        "(**hint**: np.seterr, np.errstate)"
      ]
    },
    {
      "cell_type": "code",
      "execution_count": 162,
      "metadata": {
        "colab": {
          "base_uri": "https://localhost:8080/"
        },
        "id": "g88XFLu8IYab",
        "outputId": "701205a9-1bea-4e14-c2bf-7186f0a63272"
      },
      "outputs": [
        {
          "output_type": "execute_result",
          "data": {
            "text/plain": [
              "array([inf])"
            ]
          },
          "metadata": {},
          "execution_count": 162
        }
      ],
      "source": [
        "a=np.seterr(all=\"ignore\")\n",
        "n=np.ones(1)/0\n",
        "n \n",
        "_=np.errstate(divide=\"ignore\")\n",
        "n=np.ones(1)/0\n",
        "n "
      ]
    },
    {
      "cell_type": "markdown",
      "metadata": {
        "id": "mBKZbnNrIYab"
      },
      "source": [
        "#### 32. Is the following expressions true? (★☆☆) \n",
        "(**hint**: imaginary number)"
      ]
    },
    {
      "cell_type": "markdown",
      "metadata": {
        "id": "khWKD1BNIYac"
      },
      "source": [
        "```python\n",
        "np.sqrt(-1) == np.emath.sqrt(-1)\n",
        "```"
      ]
    },
    {
      "cell_type": "code",
      "execution_count": 163,
      "metadata": {
        "colab": {
          "base_uri": "https://localhost:8080/"
        },
        "id": "UDZF0dlLIYac",
        "outputId": "69226b42-cbab-46b3-969c-a648979aeb41"
      },
      "outputs": [
        {
          "output_type": "stream",
          "name": "stdout",
          "text": [
            "False\n"
          ]
        }
      ],
      "source": [
        "print(np.sqrt(-1) == np.emath.sqrt(-1))"
      ]
    },
    {
      "cell_type": "markdown",
      "metadata": {
        "id": "pzfXinNOIYad"
      },
      "source": [
        "#### 33. How to get the dates of yesterday, today and tomorrow? (★☆☆) \n",
        "(**hint**: np.datetime64, np.timedelta64)"
      ]
    },
    {
      "cell_type": "code",
      "execution_count": 164,
      "metadata": {
        "collapsed": true,
        "colab": {
          "base_uri": "https://localhost:8080/"
        },
        "id": "P-NgRlHTIYad",
        "outputId": "c8320b49-005c-4543-f804-3bc2f2691f4c"
      },
      "outputs": [
        {
          "output_type": "stream",
          "name": "stdout",
          "text": [
            "yesterday is  2022-02-02 \n",
            "today is 2022-02-03\n",
            "tomorrow is 2022-02-04\n"
          ]
        }
      ],
      "source": [
        "yesterday=np.datetime64(\"today\",\"D\")-np.timedelta64(1,\"D\")\n",
        "print(\"yesterday is  {} \".format(yesterday))\n",
        "today=np.datetime64(\"today\",\"D\")\n",
        "print(\"today is {}\".format(today))\n",
        "tomorrow=np.datetime64(\"today\",\"D\")+ np.timedelta64(1,\"D\")\n",
        "print(\"tomorrow is {}\".format(tomorrow))"
      ]
    },
    {
      "cell_type": "markdown",
      "metadata": {
        "id": "hpSq4LadIYad"
      },
      "source": [
        "#### 34. How to get all the dates corresponding to the month of July 2016? (★★☆) \n",
        "(**hint**: np.arange(dtype=datetime64\\['D'\\]))"
      ]
    },
    {
      "cell_type": "code",
      "execution_count": 165,
      "metadata": {
        "colab": {
          "base_uri": "https://localhost:8080/"
        },
        "id": "foxJ49LmIYae",
        "outputId": "a7bb6300-4dd4-4bb7-84b4-57bfc4759ec1"
      },
      "outputs": [
        {
          "output_type": "stream",
          "name": "stdout",
          "text": [
            "['2016-07-01' '2016-07-02' '2016-07-03' '2016-07-04' '2016-07-05'\n",
            " '2016-07-06' '2016-07-07' '2016-07-08' '2016-07-09' '2016-07-10'\n",
            " '2016-07-11' '2016-07-12' '2016-07-13' '2016-07-14' '2016-07-15'\n",
            " '2016-07-16' '2016-07-17' '2016-07-18' '2016-07-19' '2016-07-20'\n",
            " '2016-07-21' '2016-07-22' '2016-07-23' '2016-07-24' '2016-07-25'\n",
            " '2016-07-26' '2016-07-27' '2016-07-28' '2016-07-29' '2016-07-30'\n",
            " '2016-07-31']\n"
          ]
        }
      ],
      "source": [
        "\n",
        "a= np.arange('2016-07', '2016-08', dtype='datetime64[D]')\n",
        "print(a)"
      ]
    },
    {
      "cell_type": "markdown",
      "metadata": {
        "id": "ohfHt_siIYae"
      },
      "source": [
        "#### 35. How to compute ((A+B)\\*(-A/2)) in place (without copy)? (★★☆) \n",
        "(**hint**: np.add(out=), np.negative(out=), np.multiply(out=), np.divide(out=))"
      ]
    },
    {
      "cell_type": "code",
      "execution_count": 171,
      "metadata": {
        "colab": {
          "base_uri": "https://localhost:8080/"
        },
        "id": "KhWTSrxYIYae",
        "outputId": "f3beeca2-6bd4-4cf6-8f7b-61a55bf6e3fc"
      },
      "outputs": [
        {
          "output_type": "execute_result",
          "data": {
            "text/plain": [
              "array([-1.5, -1.5, -1.5])"
            ]
          },
          "metadata": {},
          "execution_count": 171
        }
      ],
      "source": [
        "A = np.ones(3)*1\n",
        "B = np.ones(3)*2\n",
        "C = np.ones(3)*3\n",
        "np.add(A,B,out=B)\n",
        "np.divide(A,2,out=A)\n",
        "np.negative(A,out=A)\n",
        "np.multiply(A,B,out=A)"
      ]
    },
    {
      "cell_type": "markdown",
      "metadata": {
        "id": "0Tb0c_HaIYaf"
      },
      "source": [
        "#### 36. Extract the integer part of a random array using 5 different methods (★★☆) \n",
        "(**hint**: %, np.floor, np.ceil, astype, np.trunc)"
      ]
    },
    {
      "cell_type": "code",
      "execution_count": 173,
      "metadata": {
        "colab": {
          "base_uri": "https://localhost:8080/"
        },
        "id": "fwEkSpz4IYaf",
        "outputId": "51bf1f5a-3b28-4ef8-e4cf-01287098af79"
      },
      "outputs": [
        {
          "output_type": "stream",
          "name": "stdout",
          "text": [
            "[8. 0. 6. 0. 4. 4. 8. 6. 6. 6.]\n",
            "[9. 0. 7. 1. 5. 5. 8. 6. 7. 7.]\n",
            "[10.  1.  8.  2.  6.  6.  9.  7.  8.  8.]\n",
            "[9. 0. 7. 1. 5. 5. 8. 6. 7. 7.]\n"
          ]
        }
      ],
      "source": [
        "a=np.random.uniform(0,10,10)\n",
        "print(a-a%2)\n",
        "print(np.floor(a))\n",
        "print(np.ceil(a))\n",
        "print(np.trunc(a))"
      ]
    },
    {
      "cell_type": "markdown",
      "metadata": {
        "id": "r8agRfKUIYaf"
      },
      "source": [
        "#### 37. Create a 5x5 matrix with row values ranging from 0 to 4 (★★☆) \n",
        "(**hint**: np.arange)"
      ]
    },
    {
      "cell_type": "code",
      "execution_count": 176,
      "metadata": {
        "colab": {
          "base_uri": "https://localhost:8080/"
        },
        "id": "h-VdMtB_IYag",
        "outputId": "c9b7649d-bf88-46b0-ff4f-32c7a1d39410"
      },
      "outputs": [
        {
          "output_type": "execute_result",
          "data": {
            "text/plain": [
              "array([[0., 1., 2., 3., 4.],\n",
              "       [0., 1., 2., 3., 4.],\n",
              "       [0., 1., 2., 3., 4.],\n",
              "       [0., 1., 2., 3., 4.],\n",
              "       [0., 1., 2., 3., 4.]])"
            ]
          },
          "metadata": {},
          "execution_count": 176
        }
      ],
      "source": [
        "n=np.zeros((5,5))\n",
        "b=np.arange(5) +n\n",
        "b"
      ]
    },
    {
      "cell_type": "markdown",
      "metadata": {
        "id": "PvBypYzjIYag"
      },
      "source": [
        "#### 38. Consider a generator function that generates 10 integers and use it to build an array (★☆☆) \n",
        "(**hint**: np.fromiter)"
      ]
    },
    {
      "cell_type": "code",
      "execution_count": 179,
      "metadata": {
        "colab": {
          "base_uri": "https://localhost:8080/"
        },
        "id": "f0PfHCecIYag",
        "outputId": "913161d5-b5dc-49ec-9247-1f949cd1501e"
      },
      "outputs": [
        {
          "output_type": "stream",
          "name": "stdout",
          "text": [
            "[0. 1. 2. 3. 4. 5. 6. 7. 8. 9.]\n"
          ]
        }
      ],
      "source": [
        "def generator():\n",
        "    for x in range(10):\n",
        "        yield x\n",
        "Z = np.fromiter(generator(),dtype=float,count=-1)\n",
        "print (Z)"
      ]
    },
    {
      "cell_type": "markdown",
      "metadata": {
        "id": "ulS_SCNAIYah"
      },
      "source": [
        "#### 39. Create a vector of size 10 with values ranging from 0 to 1, both excluded (★★☆) \n",
        "(**hint**: np.linspace)"
      ]
    },
    {
      "cell_type": "code",
      "execution_count": 183,
      "metadata": {
        "colab": {
          "base_uri": "https://localhost:8080/"
        },
        "id": "BQktKwZoIYah",
        "outputId": "13b5d690-6c28-4efd-90ef-ed1fb4efe480"
      },
      "outputs": [
        {
          "output_type": "execute_result",
          "data": {
            "text/plain": [
              "array([0. , 0.1, 0.2, 0.3, 0.4, 0.5, 0.6, 0.7, 0.8, 0.9])"
            ]
          },
          "metadata": {},
          "execution_count": 183
        }
      ],
      "source": [
        "n=np.linspace(0,1,10,endpoint=False)\n",
        "n"
      ]
    },
    {
      "cell_type": "markdown",
      "metadata": {
        "id": "CC1AYnWvIYah"
      },
      "source": [
        "#### 40. Create a random vector of size 10 and sort it (★★☆) \n",
        "(**hint**: sort)"
      ]
    },
    {
      "cell_type": "code",
      "execution_count": 187,
      "metadata": {
        "colab": {
          "base_uri": "https://localhost:8080/"
        },
        "id": "7u5pGLK1IYai",
        "outputId": "2488f58c-2b20-4351-c899-084844b4d3da"
      },
      "outputs": [
        {
          "output_type": "execute_result",
          "data": {
            "text/plain": [
              "array([0.00727871, 0.14439489, 0.5106006 , 0.78628862, 0.80178822,\n",
              "       0.83303361, 0.91183888, 0.91754853, 0.92661138, 0.95500012])"
            ]
          },
          "metadata": {},
          "execution_count": 187
        }
      ],
      "source": [
        "c=np.random.random(10)\n",
        "c.sort()\n",
        "c"
      ]
    },
    {
      "cell_type": "markdown",
      "metadata": {
        "id": "M5z_NISkIYai"
      },
      "source": [
        "#### 41. How to sum a small array faster than np.sum? (★★☆) \n",
        "(**hint**: np.add.reduce)"
      ]
    },
    {
      "cell_type": "code",
      "execution_count": 188,
      "metadata": {
        "colab": {
          "base_uri": "https://localhost:8080/"
        },
        "id": "Vk8tKy8KIYai",
        "outputId": "53dbbe2e-bbcc-4d39-9071-f38cbfd68719"
      },
      "outputs": [
        {
          "output_type": "execute_result",
          "data": {
            "text/plain": [
              "45"
            ]
          },
          "metadata": {},
          "execution_count": 188
        }
      ],
      "source": [
        "a=np.arange(10)\n",
        "np.add.reduce(a)"
      ]
    },
    {
      "cell_type": "markdown",
      "metadata": {
        "id": "WkbRrDfEIYai"
      },
      "source": [
        "#### 42. Consider two random array A and B, check if they are equal (★★☆) \n",
        "(**hint**: np.allclose, np.array\\_equal)"
      ]
    },
    {
      "cell_type": "code",
      "execution_count": 191,
      "metadata": {
        "colab": {
          "base_uri": "https://localhost:8080/"
        },
        "id": "LfPukk_AIYaj",
        "outputId": "08295053-a3cc-40d8-b5cd-414aa6383bed"
      },
      "outputs": [
        {
          "output_type": "stream",
          "name": "stdout",
          "text": [
            "False\n",
            "False\n"
          ]
        }
      ],
      "source": [
        "a=np.random.random(10)\n",
        "b=np.random.random(10)\n",
        "print(np.allclose(a,b))\n",
        "print(np.array_equal(a,b))"
      ]
    },
    {
      "cell_type": "markdown",
      "metadata": {
        "id": "kshcClzdIYaj"
      },
      "source": [
        "#### 43. Make an array immutable (read-only) (★★☆) \n",
        "(**hint**: flags.writeable)"
      ]
    },
    {
      "cell_type": "code",
      "execution_count": 199,
      "metadata": {
        "colab": {
          "base_uri": "https://localhost:8080/"
        },
        "id": "vyZWzU0MIYak",
        "outputId": "aa1b78dd-f425-43b6-a7c4-3e440248171c"
      },
      "outputs": [
        {
          "output_type": "execute_result",
          "data": {
            "text/plain": [
              "array([0., 0., 0., 0., 0., 0., 0., 0., 0., 0.])"
            ]
          },
          "metadata": {},
          "execution_count": 199
        }
      ],
      "source": [
        "a=np.zeros(10)\n",
        "a.flags.writeable=False\n",
        "a"
      ]
    },
    {
      "cell_type": "markdown",
      "metadata": {
        "id": "l6MUGE_SIYak"
      },
      "source": [
        "#### 44. Consider a random 10x2 matrix representing cartesian coordinates, convert them to polar coordinates (★★☆) \n",
        "(**hint**: np.sqrt, np.arctan2)"
      ]
    },
    {
      "cell_type": "code",
      "execution_count": 210,
      "metadata": {
        "colab": {
          "base_uri": "https://localhost:8080/"
        },
        "id": "e_CcaCrVIYak",
        "outputId": "6e418da2-9f86-4203-cf99-d67999f09578"
      },
      "outputs": [
        {
          "output_type": "stream",
          "name": "stdout",
          "text": [
            "[0.18827493 0.76803146 0.96346402 0.86277488 0.75914937 1.23755751\n",
            " 1.25441699 0.71112217 1.19181851 0.5396753 ]\n",
            "\n",
            "[0.23680568 1.37887292 1.2794152  0.85182047 0.93916104 0.88826132\n",
            " 0.66100575 0.75313209 0.60296292 1.04866252]\n"
          ]
        }
      ],
      "source": [
        "a=np.random.random((10,2))\n",
        "x=a[:,0]\n",
        "y=a[:,1]\n",
        "print(np.sqrt(x**2+y**2))\n",
        "print()\n",
        "print(np.arctan2(x,y))\n",
        "\n"
      ]
    },
    {
      "cell_type": "markdown",
      "metadata": {
        "id": "fhVBS1Z6IYak"
      },
      "source": [
        "#### 45. Create random vector of size 10 and replace the maximum value by 0 (★★☆) \n",
        "(**hint**: argmax)"
      ]
    },
    {
      "cell_type": "code",
      "execution_count": 213,
      "metadata": {
        "colab": {
          "base_uri": "https://localhost:8080/"
        },
        "id": "IFQJFobOIYal",
        "outputId": "0cc6f370-1388-4c5e-b95f-96acaae5babf"
      },
      "outputs": [
        {
          "output_type": "execute_result",
          "data": {
            "text/plain": [
              "array([0.36685464, 0.14070682, 0.        , 0.71483452, 0.04275092,\n",
              "       0.43838552, 0.11415433, 0.37814518, 0.46897571, 0.11320148])"
            ]
          },
          "metadata": {},
          "execution_count": 213
        }
      ],
      "source": [
        "a=np.random.random(10)\n",
        "a[a.argmax()]=0\n",
        "a"
      ]
    },
    {
      "cell_type": "markdown",
      "metadata": {
        "id": "DPYxCow6IYal"
      },
      "source": [
        "#### 46. Create a structured array with `x` and `y` coordinates covering the \\[0,1\\]x\\[0,1\\] area (★★☆) \n",
        "(**hint**: np.meshgrid)"
      ]
    },
    {
      "cell_type": "code",
      "execution_count": 215,
      "metadata": {
        "colab": {
          "base_uri": "https://localhost:8080/"
        },
        "id": "ZjEAxNLvIYal",
        "outputId": "c2e37c79-f866-4c55-8946-dcc2d18b9bf6"
      },
      "outputs": [
        {
          "output_type": "execute_result",
          "data": {
            "text/plain": [
              "array([[(0.  , 0.  ), (0.25, 0.  ), (0.5 , 0.  ), (0.75, 0.  ),\n",
              "        (1.  , 0.  )],\n",
              "       [(0.  , 0.25), (0.25, 0.25), (0.5 , 0.25), (0.75, 0.25),\n",
              "        (1.  , 0.25)],\n",
              "       [(0.  , 0.5 ), (0.25, 0.5 ), (0.5 , 0.5 ), (0.75, 0.5 ),\n",
              "        (1.  , 0.5 )],\n",
              "       [(0.  , 0.75), (0.25, 0.75), (0.5 , 0.75), (0.75, 0.75),\n",
              "        (1.  , 0.75)],\n",
              "       [(0.  , 1.  ), (0.25, 1.  ), (0.5 , 1.  ), (0.75, 1.  ),\n",
              "        (1.  , 1.  )]], dtype=[('x', '<f8'), ('y', '<f8')])"
            ]
          },
          "metadata": {},
          "execution_count": 215
        }
      ],
      "source": [
        "a=np.zeros((5,5),[('x',float),('y',float)])\n",
        "a['x'],a['y']=np.meshgrid(np.linspace(0,1,5),np.linspace(0,1,5))\n",
        "a"
      ]
    },
    {
      "cell_type": "markdown",
      "metadata": {
        "id": "wfxz_md2IYam"
      },
      "source": [
        "####  47. Given two arrays, X and Y, construct the Cauchy matrix C (Cij =1/(xi - yj)) \n",
        "(**hint**: np.subtract.outer)"
      ]
    },
    {
      "cell_type": "code",
      "execution_count": 216,
      "metadata": {
        "colab": {
          "base_uri": "https://localhost:8080/"
        },
        "id": "UtUKNk4GIYam",
        "outputId": "fb5c3a23-29d1-45d7-c3b0-d7467b7d8699"
      },
      "outputs": [
        {
          "output_type": "execute_result",
          "data": {
            "text/plain": [
              "33961.93294480225"
            ]
          },
          "metadata": {},
          "execution_count": 216
        }
      ],
      "source": [
        "x=np.arange(10)\n",
        "y=x+0.5\n",
        "c=1.0/ np.subtract.outer(x,y)\n",
        "np.linalg.det(c)"
      ]
    },
    {
      "cell_type": "markdown",
      "metadata": {
        "id": "GtjCSbVgIYam"
      },
      "source": [
        "#### 48. Print the minimum and maximum representable value for each numpy scalar type (★★☆) \n",
        "(**hint**: np.iinfo, np.finfo, eps)"
      ]
    },
    {
      "cell_type": "code",
      "execution_count": 217,
      "metadata": {
        "colab": {
          "base_uri": "https://localhost:8080/"
        },
        "id": "TvdCigsgIYan",
        "outputId": "43afc65e-be33-4236-8c63-cd3abb225095"
      },
      "outputs": [
        {
          "output_type": "stream",
          "name": "stdout",
          "text": [
            "-128\n",
            "127\n",
            "-2147483648\n",
            "2147483647\n",
            "-9223372036854775808\n",
            "9223372036854775807\n",
            "-3.4028235e+38\n",
            "3.4028235e+38\n",
            "1.1920929e-07\n",
            "-1.7976931348623157e+308\n",
            "1.7976931348623157e+308\n",
            "2.220446049250313e-16\n"
          ]
        }
      ],
      "source": [
        "for dtype in [np.int8, np.int32, np.int64]:\n",
        "    print(np.iinfo(dtype).min)\n",
        "    print(np.iinfo(dtype).max)\n",
        "\n",
        "for dtype in [np.float32, np.float64]:\n",
        "    print(np.finfo(dtype).min)\n",
        "    print(np.finfo(dtype).max)\n",
        "    print(np.finfo(dtype).eps)"
      ]
    },
    {
      "cell_type": "markdown",
      "metadata": {
        "id": "yI2n-Ao2IYan"
      },
      "source": [
        "#### 49. How to print all the values of an array? (★★☆) \n",
        "(**hint**: np.set\\_printoptions)"
      ]
    },
    {
      "cell_type": "code",
      "execution_count": 222,
      "metadata": {
        "colab": {
          "base_uri": "https://localhost:8080/"
        },
        "id": "KAb6wRfQIYan",
        "outputId": "933ada05-e2fe-42c3-de3a-2e7a5da4fa1d"
      },
      "outputs": [
        {
          "output_type": "stream",
          "name": "stdout",
          "text": [
            "[[0. 0. 0. ... 0. 0. 0.]\n",
            " [0. 0. 0. ... 0. 0. 0.]\n",
            " [0. 0. 0. ... 0. 0. 0.]\n",
            " ...\n",
            " [0. 0. 0. ... 0. 0. 0.]\n",
            " [0. 0. 0. ... 0. 0. 0.]\n",
            " [0. 0. 0. ... 0. 0. 0.]]\n"
          ]
        }
      ],
      "source": [
        "np.set_printoptions(threshold=5)\n",
        "Z = np.zeros((16,16))\n",
        "print (Z)"
      ]
    },
    {
      "cell_type": "markdown",
      "metadata": {
        "id": "9lexvOUBIYan"
      },
      "source": [
        "#### 50. How to find the closest value (to a given scalar) in a vector? (★★☆) \n",
        "(**hint**: argmin)"
      ]
    },
    {
      "cell_type": "code",
      "execution_count": 224,
      "metadata": {
        "colab": {
          "base_uri": "https://localhost:8080/"
        },
        "id": "H204JrzCIYao",
        "outputId": "db979beb-e6ec-4734-eac6-2256b7884c7b"
      },
      "outputs": [
        {
          "output_type": "execute_result",
          "data": {
            "text/plain": [
              "0"
            ]
          },
          "metadata": {},
          "execution_count": 224
        }
      ],
      "source": [
        "a=np.arange(100)\n",
        "b=np.random.uniform(0,1,5)\n",
        "x=np.argmin(a)\n",
        "x=(np.abs(a)).argmin()\n",
        "a[x]"
      ]
    },
    {
      "cell_type": "markdown",
      "metadata": {
        "id": "HjCAG_bVIYao"
      },
      "source": [
        "#### 51. Create a structured array representing a position (x,y) and a color (r,g,b) (★★☆) \n",
        "(**hint**: dtype)"
      ]
    },
    {
      "cell_type": "code",
      "execution_count": 10,
      "metadata": {
        "colab": {
          "base_uri": "https://localhost:8080/"
        },
        "id": "9BiPaasRIYap",
        "outputId": "b9a63fe0-0a1a-4b22-e410-710a1d3ca0de"
      },
      "outputs": [
        {
          "output_type": "stream",
          "name": "stdout",
          "text": [
            "[((0., 0.), (0., 0., 0.)) ((0., 0.), (0., 0., 0.))\n",
            " ((0., 0.), (0., 0., 0.)) ((0., 0.), (0., 0., 0.))\n",
            " ((0., 0.), (0., 0., 0.)) ((0., 0.), (0., 0., 0.))\n",
            " ((0., 0.), (0., 0., 0.)) ((0., 0.), (0., 0., 0.))\n",
            " ((0., 0.), (0., 0., 0.)) ((0., 0.), (0., 0., 0.))]\n"
          ]
        },
        {
          "output_type": "stream",
          "name": "stderr",
          "text": [
            "/usr/local/lib/python3.7/dist-packages/ipykernel_launcher.py:9: FutureWarning: Passing (type, 1) or '1type' as a synonym of type is deprecated; in a future version of numpy, it will be understood as (type, (1,)) / '(1,)type'.\n",
            "  if __name__ == '__main__':\n"
          ]
        }
      ],
      "source": [
        "Z = np.zeros(10, [ ('position', [ ('x', float, 1),\n",
        "\n",
        "('y', float, 1)]),\n",
        "\n",
        "('color', [ ('r', float, 1),\n",
        "\n",
        "('g', float, 1),\n",
        "\n",
        "('b', float, 1)])])\n",
        "\n",
        "print(Z)"
      ]
    },
    {
      "cell_type": "markdown",
      "metadata": {
        "id": "Z5pActYYIYap"
      },
      "source": [
        "#### 52. Consider a random vector with shape (100,2) representing coordinates, find point by point distances (★★☆) \n",
        "(**hint**: np.atleast\\_2d, T, np.sqrt)"
      ]
    },
    {
      "cell_type": "code",
      "execution_count": 12,
      "metadata": {
        "colab": {
          "base_uri": "https://localhost:8080/"
        },
        "id": "ALE4-VAyIYap",
        "outputId": "041af4cf-0a4e-4513-ae38-2fc7748af494"
      },
      "outputs": [
        {
          "output_type": "stream",
          "name": "stdout",
          "text": [
            "[[0.         0.65105935 0.75692261 0.60269228 0.44316953 0.7587251\n",
            "  0.5232662  0.32145688 0.6742126  0.53059968]\n",
            " [0.65105935 0.         0.50200071 0.39226388 0.36509585 0.19153404\n",
            "  0.52831956 0.7778835  0.37387595 0.12148639]\n",
            " [0.75692261 0.50200071 0.         0.16391471 0.7597484  0.68639286\n",
            "  0.26388791 0.65692391 0.13145334 0.51165537]\n",
            " [0.60269228 0.39226388 0.16391471 0.         0.60428359 0.58366012\n",
            "  0.17441188 0.547611   0.08138635 0.37283715]\n",
            " [0.44316953 0.36509585 0.7597484  0.60428359 0.         0.37170491\n",
            "  0.65276643 0.70332404 0.63238599 0.27282259]\n",
            " [0.7587251  0.19153404 0.68639286 0.58366012 0.37170491 0.\n",
            "  0.7172115  0.93530591 0.56134208 0.26065118]\n",
            " [0.5232662  0.52831956 0.26388791 0.17441188 0.65276643 0.7172115\n",
            "  0.         0.39342395 0.25056834 0.47549309]\n",
            " [0.32145688 0.7778835  0.65692391 0.547611   0.70332404 0.93530591\n",
            "  0.39342395 0.         0.62896616 0.67624958]\n",
            " [0.6742126  0.37387595 0.13145334 0.08138635 0.63238599 0.56134208\n",
            "  0.25056834 0.62896616 0.         0.38038461]\n",
            " [0.53059968 0.12148639 0.51165537 0.37283715 0.27282259 0.26065118\n",
            "  0.47549309 0.67624958 0.38038461 0.        ]]\n"
          ]
        }
      ],
      "source": [
        "a=np.random.random((10,2))\n",
        "Z = np.random.random((10,2))\n",
        "\n",
        "X,Y = np.atleast_2d(a[:,0], a[:,1])\n",
        "\n",
        "D = np.sqrt( (X-X.T)**2 + (Y-Y.T)**2)\n",
        "\n",
        "print(D)\n"
      ]
    },
    {
      "cell_type": "markdown",
      "metadata": {
        "id": "JMtYRLtFIYaq"
      },
      "source": [
        "#### 53. How to convert a float (32 bits) array into an integer (32 bits) in place? \n",
        "(**hint**: astype(copy=False))"
      ]
    },
    {
      "cell_type": "code",
      "execution_count": 14,
      "metadata": {
        "colab": {
          "base_uri": "https://localhost:8080/"
        },
        "id": "jOh59WfCIYaq",
        "outputId": "c406969e-e55d-42be-dff7-7f2c4b4794cd"
      },
      "outputs": [
        {
          "output_type": "execute_result",
          "data": {
            "text/plain": [
              "array([0., 1., 2., 3., 4., 5., 6., 7., 8., 9.], dtype=float32)"
            ]
          },
          "metadata": {},
          "execution_count": 14
        }
      ],
      "source": [
        "a=np.arange(10,dtype=np.int32)\n",
        "a=a.astype(np.float32,copy=False)\n",
        "a"
      ]
    },
    {
      "cell_type": "markdown",
      "metadata": {
        "id": "MqWtHRlKIYaq"
      },
      "source": [
        "#### 54. How to read the following file? (★★☆) \n",
        "(**hint**: np.genfromtxt)"
      ]
    },
    {
      "cell_type": "markdown",
      "metadata": {
        "id": "BYBpGupeIYar"
      },
      "source": [
        "```\n",
        "1, 2, 3, 4, 5\n",
        "6,  ,  , 7, 8\n",
        " ,  , 9,10,11\n",
        "```"
      ]
    },
    {
      "cell_type": "code",
      "execution_count": 17,
      "metadata": {
        "colab": {
          "base_uri": "https://localhost:8080/"
        },
        "id": "SOw7hkIgIYar",
        "outputId": "d90daff1-58c4-4677-e8ee-2d8a1cb240bd"
      },
      "outputs": [
        {
          "output_type": "execute_result",
          "data": {
            "text/plain": [
              "array([[ 1,  2,  3,  4,  5],\n",
              "       [ 6, -1, -1,  7,  8],\n",
              "       [-1, -1,  9, 10, 11]])"
            ]
          },
          "metadata": {},
          "execution_count": 17
        }
      ],
      "source": [
        "from io import StringIO\n",
        "\n",
        "s=StringIO(\"\"\"1, 2, 3, 4, 5\n",
        "6,  ,  , 7, 8\n",
        " ,  , 9,10,11\"\"\")\n",
        "a=np.genfromtxt(s,delimiter=\",\",dtype=int)\n",
        "a"
      ]
    },
    {
      "cell_type": "markdown",
      "metadata": {
        "id": "Fa4Q8Hc2IYar"
      },
      "source": [
        "#### 55. What is the equivalent of enumerate for numpy arrays? (★★☆) \n",
        "(**hint**: np.ndenumerate, np.ndindex)"
      ]
    },
    {
      "cell_type": "code",
      "execution_count": 20,
      "metadata": {
        "colab": {
          "base_uri": "https://localhost:8080/"
        },
        "id": "1h1Co60YIYas",
        "outputId": "9c2aa535-fca6-46b3-90c1-e81ee767f701"
      },
      "outputs": [
        {
          "output_type": "stream",
          "name": "stdout",
          "text": [
            "(0, 0) 0\n",
            "(0, 1) 1\n",
            "(0, 2) 2\n",
            "(1, 0) 3\n",
            "(1, 1) 4\n",
            "(1, 2) 5\n",
            "(2, 0) 6\n",
            "(2, 1) 7\n",
            "(2, 2) 8\n",
            "(0, 0) 0\n",
            "(0, 1) 1\n",
            "(0, 2) 2\n",
            "(1, 0) 3\n",
            "(1, 1) 4\n",
            "(1, 2) 5\n",
            "(2, 0) 6\n",
            "(2, 1) 7\n",
            "(2, 2) 8\n"
          ]
        }
      ],
      "source": [
        "a=np.arange(9).reshape(3,3)\n",
        "\n",
        "for val,index in np.ndenumerate(a):\n",
        "  print(val,index)\n",
        "\n",
        "for index in np.ndindex(a.shape):\n",
        "  print(index,a[index])"
      ]
    },
    {
      "cell_type": "markdown",
      "metadata": {
        "id": "47QW8Xo1IYas"
      },
      "source": [
        "#### 56. Generate a generic 2D Gaussian-like array (★★☆) \n",
        "(**hint**: np.meshgrid, np.exp)"
      ]
    },
    {
      "cell_type": "code",
      "execution_count": 23,
      "metadata": {
        "colab": {
          "base_uri": "https://localhost:8080/"
        },
        "id": "7rdQc9eKIYas",
        "outputId": "0b45e021-2f33-4488-aaa2-84b27025e87a"
      },
      "outputs": [
        {
          "output_type": "stream",
          "name": "stdout",
          "text": [
            "[[0.36787944 0.44822088 0.51979489 0.57375342 0.60279818 0.60279818\n",
            "  0.57375342 0.51979489 0.44822088 0.36787944]\n",
            " [0.44822088 0.54610814 0.63331324 0.69905581 0.73444367 0.73444367\n",
            "  0.69905581 0.63331324 0.54610814 0.44822088]\n",
            " [0.51979489 0.63331324 0.73444367 0.81068432 0.85172308 0.85172308\n",
            "  0.81068432 0.73444367 0.63331324 0.51979489]\n",
            " [0.57375342 0.69905581 0.81068432 0.89483932 0.9401382  0.9401382\n",
            "  0.89483932 0.81068432 0.69905581 0.57375342]\n",
            " [0.60279818 0.73444367 0.85172308 0.9401382  0.98773022 0.98773022\n",
            "  0.9401382  0.85172308 0.73444367 0.60279818]\n",
            " [0.60279818 0.73444367 0.85172308 0.9401382  0.98773022 0.98773022\n",
            "  0.9401382  0.85172308 0.73444367 0.60279818]\n",
            " [0.57375342 0.69905581 0.81068432 0.89483932 0.9401382  0.9401382\n",
            "  0.89483932 0.81068432 0.69905581 0.57375342]\n",
            " [0.51979489 0.63331324 0.73444367 0.81068432 0.85172308 0.85172308\n",
            "  0.81068432 0.73444367 0.63331324 0.51979489]\n",
            " [0.44822088 0.54610814 0.63331324 0.69905581 0.73444367 0.73444367\n",
            "  0.69905581 0.63331324 0.54610814 0.44822088]\n",
            " [0.36787944 0.44822088 0.51979489 0.57375342 0.60279818 0.60279818\n",
            "  0.57375342 0.51979489 0.44822088 0.36787944]]\n"
          ]
        }
      ],
      "source": [
        "x,y=np.meshgrid(np.linspace(-1,1,10),np.linspace(-1,1,10))\n",
        "a=np.sqrt(x*x+y*y)\n",
        "sigma,mul=1.0,0.0\n",
        "\n",
        "gentrate = np.exp(-( (a-mul)**2 / ( 2.0 * sigma**2 ) ) )\n",
        "\n",
        "print(gentrate)"
      ]
    },
    {
      "cell_type": "markdown",
      "metadata": {
        "id": "MvIh54XBIYas"
      },
      "source": [
        "#### 57. How to randomly place p elements in a 2D array? (★★☆) \n",
        "(**hint**: np.put, np.random.choice)"
      ]
    },
    {
      "cell_type": "code",
      "execution_count": 24,
      "metadata": {
        "colab": {
          "base_uri": "https://localhost:8080/"
        },
        "id": "Mw-fghMXIYat",
        "outputId": "33a69e55-27d3-4b8c-e260-2f60f972c6e4"
      },
      "outputs": [
        {
          "output_type": "stream",
          "name": "stdout",
          "text": [
            "None\n"
          ]
        }
      ],
      "source": [
        "from numpy.core.defchararray import replace\n",
        "n=10\n",
        "\n",
        "p=3\n",
        "a=np.zeros((n,n))\n",
        "x=np.put(a,np.random.choice(range(n*n),p,replace=False),1)\n",
        "print(x)"
      ]
    },
    {
      "cell_type": "markdown",
      "metadata": {
        "id": "3AQyJRMBIYat"
      },
      "source": [
        "#### 58. Subtract the mean of each row of a matrix (★★☆) \n",
        "(**hint**: mean(axis=,keepdims=))"
      ]
    },
    {
      "cell_type": "code",
      "execution_count": 28,
      "metadata": {
        "colab": {
          "base_uri": "https://localhost:8080/"
        },
        "id": "KXE_h_TUIYat",
        "outputId": "ea0f4b37-d33d-4874-cd58-47ba29b4d671"
      },
      "outputs": [
        {
          "output_type": "execute_result",
          "data": {
            "text/plain": [
              "array([[ 0.06996281, -0.38237812,  0.28572633,  0.08452563, -0.30402633,\n",
              "        -0.02603398,  0.14536326,  0.04186526, -0.100118  ,  0.18511312],\n",
              "       [-0.09318911,  0.26627164,  0.26270585, -0.52094592, -0.29362011,\n",
              "         0.39217955, -0.54758052,  0.36490718,  0.02480093,  0.14447051],\n",
              "       [ 0.03906474, -0.48333799, -0.23403366,  0.28559531,  0.15396428,\n",
              "         0.24839966,  0.04072794,  0.33892028,  0.01998171, -0.40928227],\n",
              "       [-0.14336699, -0.0408305 , -0.32988544, -0.18119807,  0.03489597,\n",
              "         0.17457519,  0.05244022,  0.42716418, -0.33542259,  0.34162804],\n",
              "       [-0.15182028,  0.20737073,  0.36286674, -0.12744567, -0.24904137,\n",
              "        -0.13469469, -0.20241185,  0.43342623, -0.37012959,  0.23187973]])"
            ]
          },
          "metadata": {},
          "execution_count": 28
        }
      ],
      "source": [
        "a=np.random.rand(5,10)\n",
        "sub=a-a.mean(axis=1,keepdims=True)\n",
        "sub"
      ]
    },
    {
      "cell_type": "markdown",
      "metadata": {
        "id": "NW9I-dGuIYau"
      },
      "source": [
        "#### 59. How to sort an array by the nth column? (★★☆) \n",
        "(**hint**: argsort)"
      ]
    },
    {
      "cell_type": "code",
      "execution_count": 29,
      "metadata": {
        "colab": {
          "base_uri": "https://localhost:8080/"
        },
        "id": "MtUrBJSiIYau",
        "outputId": "bb1d8cfa-7a4f-4326-a67c-72167622eb31"
      },
      "outputs": [
        {
          "output_type": "stream",
          "name": "stdout",
          "text": [
            "[[4 2 3]\n",
            " [5 8 6]\n",
            " [1 0 9]]\n",
            "[[1 0 9]\n",
            " [4 2 3]\n",
            " [5 8 6]]\n"
          ]
        }
      ],
      "source": [
        "a = np.random.randint(0,10,(3,3))\n",
        "print (a)\n",
        "print (a[a[:,1].argsort()])"
      ]
    },
    {
      "cell_type": "markdown",
      "metadata": {
        "id": "EmjhHnNBIYau"
      },
      "source": [
        "#### 60. How to tell if a given 2D array has null columns? (★★☆) \n",
        "(**hint**: any, ~)"
      ]
    },
    {
      "cell_type": "code",
      "execution_count": 34,
      "metadata": {
        "colab": {
          "base_uri": "https://localhost:8080/"
        },
        "id": "ujUVeSmXIYav",
        "outputId": "bb086e08-1026-48aa-dc31-bd2c79d70f1e"
      },
      "outputs": [
        {
          "output_type": "stream",
          "name": "stdout",
          "text": [
            "True\n"
          ]
        }
      ],
      "source": [
        "\n",
        "Z = np.random.randint(0,3,(3,10))\n",
        "print ((~Z.any(axis=0)).any())\n"
      ]
    },
    {
      "cell_type": "markdown",
      "metadata": {
        "id": "bOtM_gtPIYav"
      },
      "source": [
        "#### 61. Find the nearest value from a given value in an array (★★☆) \n",
        "(**hint**: np.abs, argmin, flat)"
      ]
    },
    {
      "cell_type": "code",
      "execution_count": 38,
      "metadata": {
        "colab": {
          "base_uri": "https://localhost:8080/"
        },
        "id": "-1WJ8Tl9IYav",
        "outputId": "b022a734-ff63-4472-a305-f142572bdbd3"
      },
      "outputs": [
        {
          "output_type": "stream",
          "name": "stdout",
          "text": [
            "0.5618258379743465\n"
          ]
        }
      ],
      "source": [
        "\n",
        "Z = np.random.uniform(0,1,10)\n",
        "\n",
        "z = 0.5\n",
        "\n",
        "m = Z.flat[np.abs(Z - z).argmin()]\n",
        "\n",
        "print(m)"
      ]
    },
    {
      "cell_type": "markdown",
      "metadata": {
        "id": "8S02mkx5IYav"
      },
      "source": [
        "#### 62. Considering two arrays with shape (1,3) and (3,1), how to compute their sum using an iterator? (★★☆) \n",
        "(**hint**: np.nditer)"
      ]
    },
    {
      "cell_type": "code",
      "execution_count": 41,
      "metadata": {
        "colab": {
          "base_uri": "https://localhost:8080/"
        },
        "id": "TGq2BQ22IYaw",
        "outputId": "be6ee5b9-078d-417a-ba22-cb9367878dff"
      },
      "outputs": [
        {
          "output_type": "stream",
          "name": "stdout",
          "text": [
            "[[0 1 2]\n",
            " [1 2 3]\n",
            " [2 3 4]]\n"
          ]
        }
      ],
      "source": [
        "A = np.arange(3).reshape(3,1)\n",
        "B = np.arange(3).reshape(1,3)\n",
        "it = np.nditer([A,B,None])\n",
        "for x,y,z in it: \n",
        "    z[...] = x + y\n",
        "print (it.operands[2])\n",
        "\n"
      ]
    },
    {
      "cell_type": "markdown",
      "metadata": {
        "id": "D5t4ha-DIYaw"
      },
      "source": [
        "#### 63. Create an array class that has a name attribute (★★☆) \n",
        "(**hint**: class method)"
      ]
    },
    {
      "cell_type": "code",
      "execution_count": 42,
      "metadata": {
        "colab": {
          "base_uri": "https://localhost:8080/"
        },
        "id": "jvwNNsfKIYaw",
        "outputId": "80047df1-b1fe-4a02-e94c-00abd2d19634"
      },
      "outputs": [
        {
          "output_type": "stream",
          "name": "stdout",
          "text": [
            "range_10\n"
          ]
        }
      ],
      "source": [
        "class NamedArray(np.ndarray):\n",
        "    def __new__(cls, array, name=\"no name\"):\n",
        "        obj = np.asarray(array).view(cls)\n",
        "        obj.name = name\n",
        "        return obj\n",
        "    def __array_finalize__(self, obj):\n",
        "        if obj is None: return\n",
        "        self.info = getattr(obj,'name', \"no name\")\n",
        "\n",
        "Z = NamedArray(np.arange(10), \"range_10\")\n",
        "print (Z.name)"
      ]
    },
    {
      "cell_type": "markdown",
      "metadata": {
        "id": "oWeW0Q7tIYax"
      },
      "source": [
        "#### 64. Consider a given vector, how to add 1 to each element indexed by a second vector (be careful with repeated indices)? (★★★) \n",
        "(**hint**: np.bincount | np.add.at)"
      ]
    },
    {
      "cell_type": "code",
      "execution_count": 43,
      "metadata": {
        "colab": {
          "base_uri": "https://localhost:8080/"
        },
        "id": "L6j_yYjzIYax",
        "outputId": "69bad023-40d9-4e87-8428-9256f0b4026a"
      },
      "outputs": [
        {
          "output_type": "execute_result",
          "data": {
            "text/plain": [
              "array([2., 2., 2., 4., 4., 3., 5., 1., 4., 3.])"
            ]
          },
          "metadata": {},
          "execution_count": 43
        }
      ],
      "source": [
        "a=np.ones(10)\n",
        "b=np.random.randint(0,len(a),20)\n",
        "a=a+np.bincount(b,minlength=len(a))\n",
        "a"
      ]
    },
    {
      "cell_type": "code",
      "source": [
        "np.add.at(a,b,1)\n",
        "a"
      ],
      "metadata": {
        "colab": {
          "base_uri": "https://localhost:8080/"
        },
        "id": "S52sZz5q1nbR",
        "outputId": "df1184f0-d8e5-40eb-b1de-1da2ad346079"
      },
      "execution_count": 44,
      "outputs": [
        {
          "output_type": "execute_result",
          "data": {
            "text/plain": [
              "array([3., 3., 3., 7., 7., 5., 9., 1., 7., 5.])"
            ]
          },
          "metadata": {},
          "execution_count": 44
        }
      ]
    },
    {
      "cell_type": "markdown",
      "metadata": {
        "id": "ZijLxZd8IYax"
      },
      "source": [
        "#### 65. How to accumulate elements of a vector (X) to an array (F) based on an index list (I)? (★★★) \n",
        "(**hint**: np.bincount)"
      ]
    },
    {
      "cell_type": "code",
      "execution_count": 47,
      "metadata": {
        "colab": {
          "base_uri": "https://localhost:8080/"
        },
        "id": "KheUQK6cIYay",
        "outputId": "b9759345-fe43-4b78-8693-5e3cf9963241"
      },
      "outputs": [
        {
          "output_type": "stream",
          "name": "stdout",
          "text": [
            "[0. 7. 0. 6. 5. 0. 0. 0. 0. 3.]\n"
          ]
        }
      ],
      "source": [
        "X = [1,2,3,4,5,6]\n",
        "I = [1,3,9,3,4,1]\n",
        "F = np.bincount(I,X)\n",
        "print (F)"
      ]
    },
    {
      "cell_type": "markdown",
      "metadata": {
        "id": "4m5I_jS3IYay"
      },
      "source": [
        "#### 66. Considering a (w,h,3) image of (dtype=ubyte), compute the number of unique colors (★★★) \n",
        "(**hint**: np.unique)"
      ]
    },
    {
      "cell_type": "code",
      "execution_count": 49,
      "metadata": {
        "colab": {
          "base_uri": "https://localhost:8080/"
        },
        "id": "yHSLLQSPIYay",
        "outputId": "ad71b61c-dcfc-4873-8c20-d07ecade030a"
      },
      "outputs": [
        {
          "output_type": "execute_result",
          "data": {
            "text/plain": [
              "1"
            ]
          },
          "metadata": {},
          "execution_count": 49
        }
      ],
      "source": [
        "h,w=16,16\n",
        "a=np.random.randint(0,(w,h,3)).astype(np.ubyte)\n",
        "b=a[...,0]*(256*256) + a[...,1]*256 +a[...,2]\n",
        "\n",
        "n=len(np.unique(b))\n",
        "n"
      ]
    },
    {
      "cell_type": "markdown",
      "metadata": {
        "id": "OnNOWpvAIYaz"
      },
      "source": [
        "#### 67. Considering a four dimensions array, how to get sum over the last two axis at once? (★★★) \n",
        "(**hint**: sum(axis=(-2,-1)))"
      ]
    },
    {
      "cell_type": "code",
      "execution_count": 51,
      "metadata": {
        "colab": {
          "base_uri": "https://localhost:8080/"
        },
        "id": "GRgWhnMUIYaz",
        "outputId": "4d500e06-4a9a-4c0a-94e5-8d136db97958"
      },
      "outputs": [
        {
          "output_type": "execute_result",
          "data": {
            "text/plain": [
              "array([[69, 47, 55, 58],\n",
              "       [55, 52, 67, 40],\n",
              "       [73, 59, 49, 55]])"
            ]
          },
          "metadata": {},
          "execution_count": 51
        }
      ],
      "source": [
        "a=np.random.randint(0,10,(3,4,3,4))\n",
        "sum=a.sum(axis=(-2,-1))\n",
        "sum"
      ]
    },
    {
      "cell_type": "markdown",
      "metadata": {
        "id": "R8tiS6vRIYaz"
      },
      "source": [
        "#### 68. Considering a one-dimensional vector D, how to compute means of subsets of D using a vector S of same size describing subset  indices? (★★★) \n",
        "(**hint**: np.bincount)"
      ]
    },
    {
      "cell_type": "code",
      "execution_count": 53,
      "metadata": {
        "colab": {
          "base_uri": "https://localhost:8080/"
        },
        "id": "yzUMV-rpIYaz",
        "outputId": "72da2c3f-de5b-4634-8489-c793cfbb54a7"
      },
      "outputs": [
        {
          "output_type": "execute_result",
          "data": {
            "text/plain": [
              "array([0.48345201, 0.48851497, 0.36980689, 0.59414267, 0.57663927,\n",
              "       0.49081719, 0.68187969, 0.51970089, 0.4764588 , 0.54345623])"
            ]
          },
          "metadata": {},
          "execution_count": 53
        }
      ],
      "source": [
        "a=np.random.uniform(0,1,100)\n",
        "b=np.random.randint(0,10,100)\n",
        "sum=np.bincount(b,weights=a)\n",
        "count=np.bincount(b)\n",
        "mean=sum/count\n",
        "mean"
      ]
    },
    {
      "cell_type": "markdown",
      "metadata": {
        "id": "xNjF86hdIYa0"
      },
      "source": [
        "#### 69. How to get the diagonal of a dot product? (★★★) \n",
        "(**hint**: np.diag)"
      ]
    },
    {
      "cell_type": "code",
      "execution_count": 54,
      "metadata": {
        "colab": {
          "base_uri": "https://localhost:8080/"
        },
        "id": "yDghX-4hIYa0",
        "outputId": "17d28fb1-11df-4f6a-eaf1-592c056598bb"
      },
      "outputs": [
        {
          "output_type": "execute_result",
          "data": {
            "text/plain": [
              "array([1.3940968 , 0.72194108, 1.19041194, 1.0705399 , 0.92888597])"
            ]
          },
          "metadata": {},
          "execution_count": 54
        }
      ],
      "source": [
        "a=np.random.uniform(0,1,(5,5))\n",
        "b=np.random.uniform(0,1,(5,5))\n",
        "c=np.diag(np.dot(a,b))\n",
        "c"
      ]
    },
    {
      "cell_type": "markdown",
      "metadata": {
        "id": "EM1lS7E4IYa1"
      },
      "source": [
        "#### 70. Consider the vector \\[1, 2, 3, 4, 5\\], how to build a new vector with 3 consecutive zeros interleaved between each value? (★★★) \n",
        "(**hint**: array\\[::4\\])"
      ]
    },
    {
      "cell_type": "code",
      "execution_count": 56,
      "metadata": {
        "colab": {
          "base_uri": "https://localhost:8080/"
        },
        "id": "ICkbqO7TIYa1",
        "outputId": "d548e028-b8d4-41ec-aa8d-0706c6bb6632"
      },
      "outputs": [
        {
          "output_type": "execute_result",
          "data": {
            "text/plain": [
              "array([1., 0., 0., 0., 2., 0., 0., 0., 3., 0., 0., 0., 4., 0., 0., 0., 5.])"
            ]
          },
          "metadata": {},
          "execution_count": 56
        }
      ],
      "source": [
        "a=np.array([1,2,3,4,5])\n",
        "an=3\n",
        "a0=np.zeros(len(a)+(len(a)-1)*an)\n",
        "a0[::4]=a\n",
        "a0"
      ]
    },
    {
      "cell_type": "markdown",
      "metadata": {
        "id": "5B3zY0CjIYa1"
      },
      "source": [
        "#### 71. Consider an array of dimension (5,5,3), how to mulitply it by an array with dimensions (5,5)? (★★★) \n",
        "(**hint**: array\\[:, :, None\\])"
      ]
    },
    {
      "cell_type": "code",
      "execution_count": 59,
      "metadata": {
        "collapsed": true,
        "colab": {
          "base_uri": "https://localhost:8080/"
        },
        "id": "-G75LxpMIYa2",
        "outputId": "ad0ebd6e-4a2e-443d-c589-6c9f74ae1c69"
      },
      "outputs": [
        {
          "output_type": "stream",
          "name": "stdout",
          "text": [
            "[[[2. 2. 2.]\n",
            "  [2. 2. 2.]\n",
            "  [2. 2. 2.]\n",
            "  [2. 2. 2.]\n",
            "  [2. 2. 2.]]\n",
            "\n",
            " [[2. 2. 2.]\n",
            "  [2. 2. 2.]\n",
            "  [2. 2. 2.]\n",
            "  [2. 2. 2.]\n",
            "  [2. 2. 2.]]\n",
            "\n",
            " [[2. 2. 2.]\n",
            "  [2. 2. 2.]\n",
            "  [2. 2. 2.]\n",
            "  [2. 2. 2.]\n",
            "  [2. 2. 2.]]\n",
            "\n",
            " [[2. 2. 2.]\n",
            "  [2. 2. 2.]\n",
            "  [2. 2. 2.]\n",
            "  [2. 2. 2.]\n",
            "  [2. 2. 2.]]\n",
            "\n",
            " [[2. 2. 2.]\n",
            "  [2. 2. 2.]\n",
            "  [2. 2. 2.]\n",
            "  [2. 2. 2.]\n",
            "  [2. 2. 2.]]]\n"
          ]
        },
        {
          "output_type": "execute_result",
          "data": {
            "text/plain": [
              "array([1.3940968 , 0.72194108, 1.19041194, 1.0705399 , 0.92888597])"
            ]
          },
          "metadata": {},
          "execution_count": 59
        }
      ],
      "source": [
        "a=np.ones((5,5,3))\n",
        "b=2*np.ones((5,5))\n",
        "print(a*b[:,:,None])\n"
      ]
    },
    {
      "cell_type": "markdown",
      "metadata": {
        "id": "Oh35EWKFIYa2"
      },
      "source": [
        "#### 72. How to swap two rows of an array? (★★★) \n",
        "(**hint**: array\\[\\[\\]\\] = array\\[\\[\\]\\])"
      ]
    },
    {
      "cell_type": "code",
      "execution_count": 61,
      "metadata": {
        "colab": {
          "base_uri": "https://localhost:8080/"
        },
        "id": "ORe_SX93IYa2",
        "outputId": "4ddf978b-b996-459e-ff22-55382f8404c9"
      },
      "outputs": [
        {
          "output_type": "execute_result",
          "data": {
            "text/plain": [
              "array([[ 5,  6,  7,  8,  9],\n",
              "       [ 0,  1,  2,  3,  4],\n",
              "       [10, 11, 12, 13, 14],\n",
              "       [15, 16, 17, 18, 19],\n",
              "       [20, 21, 22, 23, 24]])"
            ]
          },
          "metadata": {},
          "execution_count": 61
        }
      ],
      "source": [
        "a=np.arange(25).reshape(5,5)\n",
        "a[[0,1]]=a[[1,0]]\n",
        "a"
      ]
    },
    {
      "cell_type": "markdown",
      "metadata": {
        "id": "LSzBMVBgIYa3"
      },
      "source": [
        "#### 73. Consider a set of 10 triplets describing 10 triangles (with shared vertices), find the set of unique line segments composing all the  triangles (★★★) \n",
        "(**hint**: repeat, np.roll, np.sort, view, np.unique)"
      ]
    },
    {
      "cell_type": "code",
      "execution_count": 62,
      "metadata": {
        "colab": {
          "base_uri": "https://localhost:8080/"
        },
        "id": "Wwjf5vF_IYa3",
        "outputId": "e936854e-5329-4da1-8ccd-e7a494b1c3e9"
      },
      "outputs": [
        {
          "output_type": "stream",
          "name": "stdout",
          "text": [
            "[( 7, 26) ( 7, 74) ( 8, 39) ( 8, 78) ( 9, 14) ( 9, 84) (11, 36) (11, 86)\n",
            " (14, 84) (22, 74) (22, 85) (23, 53) (23, 82) (26, 74) (32, 82) (32, 87)\n",
            " (34, 40) (34, 47) (36, 86) (39, 78) (40, 47) (42, 91) (42, 97) (53, 82)\n",
            " (66, 84) (66, 88) (74, 85) (82, 87) (84, 88) (91, 97)]\n"
          ]
        }
      ],
      "source": [
        "faces = np.random.randint(0,100,(10,3))\n",
        "F = np.roll(faces.repeat(2,axis=1),-1,axis=1)\n",
        "F = F.reshape(len(F)*3,2)\n",
        "F = np.sort(F,axis=1)\n",
        "G = F.view( dtype=[('p0',F.dtype),('p1',F.dtype)])\n",
        "G = np.unique(G)\n",
        "print (G)"
      ]
    },
    {
      "cell_type": "markdown",
      "metadata": {
        "id": "uZ_rEEySIYa3"
      },
      "source": [
        "#### 74. Given an array C that is a bincount, how to produce an array A such that np.bincount(A) == C? (★★★) \n",
        "(**hint**: np.repeat)"
      ]
    },
    {
      "cell_type": "code",
      "execution_count": 63,
      "metadata": {
        "colab": {
          "base_uri": "https://localhost:8080/"
        },
        "id": "v5RnKQr-IYa3",
        "outputId": "0915de9f-8589-4370-8675-7f2509e5ca0d"
      },
      "outputs": [
        {
          "output_type": "execute_result",
          "data": {
            "text/plain": [
              "array([1, 1, 1, 2, 3, 3, 5, 6, 8, 8])"
            ]
          },
          "metadata": {},
          "execution_count": 63
        }
      ],
      "source": [
        "c=np.bincount([1,1,1,2,3,3,5,6,8,8])\n",
        "a=np.repeat(np.arange(len(c)),c)\n",
        "a"
      ]
    },
    {
      "cell_type": "markdown",
      "metadata": {
        "id": "2hnqQEt7IYa4"
      },
      "source": [
        "#### 75. How to compute averages using a sliding window over an array? (★★★) \n",
        "(**hint**: np.cumsum)"
      ]
    },
    {
      "cell_type": "code",
      "execution_count": 64,
      "metadata": {
        "colab": {
          "base_uri": "https://localhost:8080/"
        },
        "id": "I4udRFSzIYa4",
        "outputId": "d7a7eee1-fa60-4381-c901-68ca7b203a97"
      },
      "outputs": [
        {
          "output_type": "stream",
          "name": "stdout",
          "text": [
            "[ 1.  2.  3.  4.  5.  6.  7.  8.  9. 10. 11. 12. 13. 14. 15. 16. 17. 18.]\n"
          ]
        }
      ],
      "source": [
        "def moving_average(a, n=3):\n",
        "    ret = np.cumsum(a, dtype=float)\n",
        "    ret[n:] = ret[n:]-ret[:-n]\n",
        "    return ret[n-1:]/n\n",
        "a = np.arange(20)\n",
        "print(moving_average(a, n=3))"
      ]
    },
    {
      "cell_type": "markdown",
      "metadata": {
        "id": "OwOsX0xgIYa4"
      },
      "source": [
        "#### 76. Consider a one-dimensional array Z, build a two-dimensional array whose first row is (Z\\[0\\],Z\\[1\\],Z\\[2\\]) and each subsequent row is  shifted by 1 (last row should be (Z\\[-3\\],Z\\[-2\\],Z\\[-1\\]) (★★★) \n",
        "(**hint**: from numpy.lib import stride_tricks)"
      ]
    },
    {
      "cell_type": "code",
      "execution_count": 65,
      "metadata": {
        "colab": {
          "base_uri": "https://localhost:8080/"
        },
        "id": "gnNIf4cEIYa5",
        "outputId": "7e1b25ac-3849-40e7-aea8-3f0812c2839e"
      },
      "outputs": [
        {
          "output_type": "stream",
          "name": "stdout",
          "text": [
            "[[0 1 2]\n",
            " [1 2 3]\n",
            " [2 3 4]\n",
            " [3 4 5]\n",
            " [4 5 6]\n",
            " [5 6 7]\n",
            " [6 7 8]\n",
            " [7 8 9]]\n"
          ]
        }
      ],
      "source": [
        "from numpy.lib import stride_tricks\n",
        "def rolling(a, window):\n",
        "    shape = (a.size-window + 1, window)\n",
        "    strides = (a.itemsize, a.itemsize)\n",
        "    return stride_tricks.as_strided(a, shape=shape, strides=strides)\n",
        "a = rolling(np.arange(10), 3)\n",
        "print (a)"
      ]
    },
    {
      "cell_type": "markdown",
      "metadata": {
        "id": "PBwof3sWIYa5"
      },
      "source": [
        "#### 77. How to negate a boolean, or to change the sign of a float inplace? (★★★) \n",
        "(**hint**: np.logical_not, np.negative)"
      ]
    },
    {
      "cell_type": "code",
      "execution_count": 67,
      "metadata": {
        "colab": {
          "base_uri": "https://localhost:8080/"
        },
        "id": "6GYPVAHVIYa5",
        "outputId": "ec790974-b8d7-4ed8-c7dc-52ac5a8643fd"
      },
      "outputs": [
        {
          "output_type": "stream",
          "name": "stdout",
          "text": [
            "[1 1 0 0 1 1 1 0 0 0 0 1 0 0 1 0 0 1 1 1 0 0 0 1 1 0 0 0 0 1 1 0 0 1 0 1 1\n",
            " 0 1 1 0 0 0 1 1 1 1 0 0 0 0 1 1 0 1 1 0 0 1 1 0 1 0 1 0 0 0 0 0 1 1 0 1 1\n",
            " 1 1 0 1 1 1 1 0 1 0 0 0 0 1 0 0 0 0 0 0 1 0 1 1 1 0]\n",
            "[ 0.63980005  0.51044482  0.27075056 -0.19330632  0.29325047 -0.66731944\n",
            "  0.02409049 -0.76602731  0.54473974 -0.22915246 -0.14367924  0.59320422\n",
            " -0.91934228  0.72805791 -0.71175484 -0.82703972  0.33425866 -0.18641936\n",
            " -0.9039111  -0.39400403  0.53918501  0.43172496  0.16491889 -0.56498793\n",
            " -0.34798944  0.26942216 -0.66103152  0.68188792  0.38627315 -0.81649143\n",
            " -0.99134736 -0.37567469 -0.21814442 -0.655257    0.24314451 -0.62907532\n",
            " -0.19160379 -0.76996129 -0.04589427  0.82013941  0.91225849  0.36135979\n",
            "  0.604074   -0.74595275 -0.51756081 -0.54996292 -0.97485245  0.87823224\n",
            "  0.64356087  0.20080875  0.74683132 -0.47297553  0.07425182 -0.16399209\n",
            "  0.79174006 -0.66392011 -0.00663662  0.89970027  0.86074695  0.04715742\n",
            " -0.31313396 -0.01993455  0.62546646 -0.83964621  0.04458806 -0.14822677\n",
            " -0.13923084  0.56637473 -0.09202347 -0.30577701 -0.54194648  0.77713838\n",
            " -0.63764698  0.92396901 -0.98821338  0.50395669 -0.28046509 -0.32906155\n",
            "  0.7516459  -0.69636936  0.60996113 -0.66437633  0.79733446  0.78434908\n",
            " -0.0854718   0.26188274 -0.01251562  0.67908387 -0.23603235  0.47101423\n",
            " -0.34732415 -0.28400908  0.86651284  0.77594485  0.0819608   0.12829401\n",
            "  0.65153293 -0.33906855  0.38738442 -0.07399428]\n"
          ]
        }
      ],
      "source": [
        "a=np.random.randint(0,2,100)\n",
        "print(np.logical_not(a,out=a))\n",
        "a=np.random.uniform(-1.0,1.0,100)\n",
        "print(np.negative(a,out=a))\n"
      ]
    },
    {
      "cell_type": "markdown",
      "metadata": {
        "id": "F_fmZeV8IYa6"
      },
      "source": [
        "#### 78. Consider 2 sets of points P0,P1 describing lines (2d) and a point p, how to compute distance from p to each line i  (P0\\[i\\],P1\\[i\\])? (★★★)"
      ]
    },
    {
      "cell_type": "code",
      "execution_count": 68,
      "metadata": {
        "colab": {
          "base_uri": "https://localhost:8080/"
        },
        "id": "bgR3khNhIYa6",
        "outputId": "0565a6a4-11fd-4395-a0c9-a26b55de7105"
      },
      "outputs": [
        {
          "output_type": "stream",
          "name": "stdout",
          "text": [
            "[4.29258809 2.25890799 4.0958861  0.27354207 5.26903178 2.94281548\n",
            " 3.0431897  1.4839653  2.82201489 0.29263299]\n"
          ]
        }
      ],
      "source": [
        "def distance(P0, P1, p):\n",
        "    T = P1-P0\n",
        "    L = (T**2).sum(axis=1)\n",
        "    U = -((P0[:,0]-p[...,0])*T[:,0] + (P0[:,1]-p[...,1])*T[: ,1])/L\n",
        "    U = U.reshape(len(U),1)\n",
        "    D = P0 + U*T-p\n",
        "    return np.sqrt((D**2).sum(axis=1))\n",
        "\n",
        "P0 = np.random.uniform(-10,10,(10,2))\n",
        "P1 = np.random.uniform(-10,10,(10,2))\n",
        "p = np.random.uniform(-10,10,( 1,2))\n",
        "\n",
        "print (distance(P0, P1, p))"
      ]
    },
    {
      "cell_type": "markdown",
      "metadata": {
        "id": "pjGgMH69IYa6"
      },
      "source": [
        "#### 79. Consider 2 sets of points P0,P1 describing lines (2d) and a set of points P, how to compute distance from each point j (P\\[j\\]) to each line i (P0\\[i\\],P1\\[i\\])? (★★★)"
      ]
    },
    {
      "cell_type": "code",
      "execution_count": 69,
      "metadata": {
        "colab": {
          "base_uri": "https://localhost:8080/"
        },
        "id": "yVdhG4yBIYa7",
        "outputId": "3eaef5c3-ee2d-4fc1-d4f4-589ca2dd02fe"
      },
      "outputs": [
        {
          "output_type": "stream",
          "name": "stdout",
          "text": [
            "[[ 9.53314697  1.09788124  0.46935888  4.74757433  0.36961031 11.16917844\n",
            "   5.45106012  0.8297644   2.90042763  2.94030019]\n",
            " [ 0.6640564   2.97974115  9.02605685  3.87348721  3.88813198  1.61638361\n",
            "   5.85318044  1.97684602  4.97769568  6.44210442]\n",
            " [11.83779227  5.88126092  0.03055248  7.33119283  4.52169946 12.13519769\n",
            "   0.3206478   3.96847503  7.82646019  2.13143369]\n",
            " [10.64408282  7.76067911  3.24349524  6.39480744  6.64148452  9.86071983\n",
            "   2.90255382  7.95064506 11.67021497  1.24861428]\n",
            " [ 3.90655283  3.72392881 15.00090424  8.19111234  4.25190568  3.85919377\n",
            "   4.22865954  5.43777939  8.04027151 12.46061171]\n",
            " [ 1.51065837  1.61152581  8.89977131  2.96027511  2.50671627  2.12961824\n",
            "   4.49348605  3.16212543  6.2163666   6.4001101 ]\n",
            " [ 9.1642936   9.93425746 17.60745562 13.65162731 10.38871202  7.97776266\n",
            "   9.58642062  1.47125815  3.70425958 14.71538027]\n",
            " [10.14270147  1.59544192  0.94879306  5.36012385  0.10430154 11.73723493\n",
            "   5.13012017  0.70008039  3.07663556  3.39565107]\n",
            " [ 3.80760579  9.91775535  9.92317752  8.67034693 10.87623421  1.21204484\n",
            "  12.64521783  3.85505277  1.140998    6.91568798]\n",
            " [ 7.74975307  7.42822149 17.57172725 12.10550598  7.84566331  7.20979245\n",
            "   7.01770746  3.77818103  6.09674524 14.83700441]]\n"
          ]
        }
      ],
      "source": [
        "P0 = np.random.uniform(-10, 10, (10,2))\n",
        "P1 = np.random.uniform(-10,10,(10,2))\n",
        "p = np.random.uniform(-10, 10, (10,2))\n",
        "print (np.array([distance(P0,P1,p_i) for p_i in p]))"
      ]
    },
    {
      "cell_type": "markdown",
      "metadata": {
        "id": "IpRKUwo6IYa7"
      },
      "source": [
        "#### 80. Consider an arbitrary array, write a function that extract a subpart with a fixed shape and centered on a given element (pad with a `fill` value when necessary) (★★★) \n",
        "(**hint**: minimum, maximum)"
      ]
    },
    {
      "cell_type": "code",
      "execution_count": 70,
      "metadata": {
        "colab": {
          "base_uri": "https://localhost:8080/"
        },
        "id": "xoVjiXkBIYa7",
        "outputId": "923fbbc9-db28-48f7-a989-1d6ae3d0091a"
      },
      "outputs": [
        {
          "output_type": "stream",
          "name": "stdout",
          "text": [
            "[[5 3 9 3 2 2 4 9 5 6]\n",
            " [9 9 7 0 9 7 4 1 4 9]\n",
            " [2 6 4 5 3 2 2 6 0 1]\n",
            " [3 5 1 5 8 3 9 0 7 4]\n",
            " [6 2 1 5 2 1 5 8 7 8]\n",
            " [5 3 6 5 7 8 1 7 5 7]\n",
            " [8 9 6 0 1 4 4 2 0 8]\n",
            " [8 7 2 3 6 6 1 5 9 6]\n",
            " [9 6 8 0 8 9 2 9 3 4]\n",
            " [6 0 0 7 0 4 6 4 1 8]]\n",
            "[[0 0 0 0 0]\n",
            " [0 5 3 9 3]\n",
            " [0 9 9 7 0]\n",
            " [0 2 6 4 5]\n",
            " [0 3 5 1 5]]\n"
          ]
        },
        {
          "output_type": "stream",
          "name": "stderr",
          "text": [
            "/usr/local/lib/python3.7/dist-packages/ipykernel_launcher.py:23: FutureWarning: Using a non-tuple sequence for multidimensional indexing is deprecated; use `arr[tuple(seq)]` instead of `arr[seq]`. In the future this will be interpreted as an array index, `arr[np.array(seq)]`, which will result either in an error or a different result.\n"
          ]
        }
      ],
      "source": [
        "Z = np.random.randint(0,10,(10,10))\n",
        "shape = (5,5)\n",
        "fill = 0\n",
        "position = (1,1)\n",
        "\n",
        "R = np.ones(shape, dtype=Z.dtype)*fill\n",
        "P = np.array(list(position)).astype(int)\n",
        "Rs = np.array(list(R.shape)).astype(int)\n",
        "Zs = np.array(list(Z.shape)).astype(int)\n",
        "\n",
        "R_start = np.zeros((len(shape),)).astype(int)\n",
        "R_stop = np.array(list(shape)).astype(int)\n",
        "Z_start = (P-Rs//2)\n",
        "Z_stop = (P+Rs//2)+Rs%2\n",
        "\n",
        "R_start = (R_start-np.minimum(Z_start,0)).tolist()\n",
        "Z_start = (np.maximum(Z_start,0)).tolist()\n",
        "R_stop = np.maximum(R_start, (R_stop-np.maximum(Z_stop-Zs,0))).tolist()\n",
        "Z_stop = (np.minimum(Z_stop,Zs)).tolist()\n",
        "\n",
        "r = [slice(start,stop) for start,stop in zip(R_start,R_stop)]\n",
        "z = [slice(start,stop) for start,stop in zip(Z_start,Z_stop)]\n",
        "R[r] = Z[z]\n",
        "print (Z)\n",
        "print (R)"
      ]
    },
    {
      "cell_type": "markdown",
      "metadata": {
        "id": "4B8w-d3RIYa8"
      },
      "source": [
        "#### 81. Consider an array Z = \\[1,2,3,4,5,6,7,8,9,10,11,12,13,14\\], how to generate an array R = \\[\\[1,2,3,4\\], \\[2,3,4,5\\], \\[3,4,5,6\\], ..., \\[11,12,13,14\\]\\]? (★★★) \n",
        "(**hint**: stride\\_tricks.as\\_strided)"
      ]
    },
    {
      "cell_type": "code",
      "execution_count": 73,
      "metadata": {
        "colab": {
          "base_uri": "https://localhost:8080/"
        },
        "id": "iMkW9eJCIYa8",
        "outputId": "9591a62b-aaec-45ed-bf14-fc620a44c11f"
      },
      "outputs": [
        {
          "output_type": "execute_result",
          "data": {
            "text/plain": [
              "array([[ 1,  2,  3,  4],\n",
              "       [ 2,  3,  4,  5],\n",
              "       [ 3,  4,  5,  6],\n",
              "       [ 4,  5,  6,  7],\n",
              "       [ 5,  6,  7,  8],\n",
              "       [ 6,  7,  8,  9],\n",
              "       [ 7,  8,  9, 10],\n",
              "       [ 8,  9, 10, 11],\n",
              "       [ 9, 10, 11, 12],\n",
              "       [10, 11, 12, 13],\n",
              "       [11, 12, 13, 14]], dtype=uint32)"
            ]
          },
          "metadata": {},
          "execution_count": 73
        }
      ],
      "source": [
        "a=np.arange(1,15,dtype=np.uint32)\n",
        "c=stride_tricks.as_strided(a,(11,4),(4,4))\n",
        "c"
      ]
    },
    {
      "cell_type": "markdown",
      "metadata": {
        "id": "L_kywgXJIYa8"
      },
      "source": [
        "#### 82. Compute a matrix rank (★★★) \n",
        "(**hint**: np.linalg.svd) (suggestion: np.linalg.svd)"
      ]
    },
    {
      "cell_type": "code",
      "execution_count": 74,
      "metadata": {
        "colab": {
          "base_uri": "https://localhost:8080/"
        },
        "id": "p9QpK-abIYa9",
        "outputId": "c3345cc6-c5d6-431f-eabb-394839275726"
      },
      "outputs": [
        {
          "output_type": "execute_result",
          "data": {
            "text/plain": [
              "51"
            ]
          },
          "metadata": {},
          "execution_count": 74
        }
      ],
      "source": [
        "a=np.random.uniform(0,1,(10,10))\n",
        "s,v,m=np.linalg.svd(a)\n",
        "rank=np.sum(s> 1e-10)\n",
        "rank"
      ]
    },
    {
      "cell_type": "markdown",
      "metadata": {
        "id": "oiQ5MmL5IYa9"
      },
      "source": [
        "#### 83. How to find the most frequent value in an array? \n",
        "(**hint**: np.bincount, argmax)"
      ]
    },
    {
      "cell_type": "code",
      "execution_count": 76,
      "metadata": {
        "colab": {
          "base_uri": "https://localhost:8080/"
        },
        "id": "HcpMnI28IYa9",
        "outputId": "c1e87c11-a4a0-47cb-bc0b-fd7b1f83a949"
      },
      "outputs": [
        {
          "output_type": "execute_result",
          "data": {
            "text/plain": [
              "1"
            ]
          },
          "metadata": {},
          "execution_count": 76
        }
      ],
      "source": [
        "a=np.random.randint(0,10,50)\n",
        "n=np.bincount(a).argmax()\n",
        "n"
      ]
    },
    {
      "cell_type": "markdown",
      "metadata": {
        "id": "jJiE0wJDIYa9"
      },
      "source": [
        "#### 84. Extract all the contiguous 3x3 blocks from a random 10x10 matrix (★★★) \n",
        "(**hint**: stride\\_tricks.as\\_strided)"
      ]
    },
    {
      "cell_type": "code",
      "execution_count": 77,
      "metadata": {
        "colab": {
          "base_uri": "https://localhost:8080/"
        },
        "id": "ysi9-GBZIYa-",
        "outputId": "c279b8c5-e35c-4258-b676-c31ba4a6a974"
      },
      "outputs": [
        {
          "output_type": "stream",
          "name": "stdout",
          "text": [
            "[[[[4 0 1]\n",
            "   [3 4 3]\n",
            "   [1 4 2]]\n",
            "\n",
            "  [[0 1 0]\n",
            "   [4 3 0]\n",
            "   [4 2 1]]\n",
            "\n",
            "  [[1 0 1]\n",
            "   [3 0 3]\n",
            "   [2 1 0]]\n",
            "\n",
            "  [[0 1 0]\n",
            "   [0 3 1]\n",
            "   [1 0 4]]\n",
            "\n",
            "  [[1 0 2]\n",
            "   [3 1 1]\n",
            "   [0 4 1]]\n",
            "\n",
            "  [[0 2 1]\n",
            "   [1 1 4]\n",
            "   [4 1 0]]\n",
            "\n",
            "  [[2 1 3]\n",
            "   [1 4 4]\n",
            "   [1 0 2]]\n",
            "\n",
            "  [[1 3 2]\n",
            "   [4 4 3]\n",
            "   [0 2 3]]]\n",
            "\n",
            "\n",
            " [[[3 4 3]\n",
            "   [1 4 2]\n",
            "   [4 4 3]]\n",
            "\n",
            "  [[4 3 0]\n",
            "   [4 2 1]\n",
            "   [4 3 1]]\n",
            "\n",
            "  [[3 0 3]\n",
            "   [2 1 0]\n",
            "   [3 1 0]]\n",
            "\n",
            "  [[0 3 1]\n",
            "   [1 0 4]\n",
            "   [1 0 3]]\n",
            "\n",
            "  [[3 1 1]\n",
            "   [0 4 1]\n",
            "   [0 3 0]]\n",
            "\n",
            "  [[1 1 4]\n",
            "   [4 1 0]\n",
            "   [3 0 3]]\n",
            "\n",
            "  [[1 4 4]\n",
            "   [1 0 2]\n",
            "   [0 3 2]]\n",
            "\n",
            "  [[4 4 3]\n",
            "   [0 2 3]\n",
            "   [3 2 3]]]\n",
            "\n",
            "\n",
            " [[[1 4 2]\n",
            "   [4 4 3]\n",
            "   [1 2 1]]\n",
            "\n",
            "  [[4 2 1]\n",
            "   [4 3 1]\n",
            "   [2 1 3]]\n",
            "\n",
            "  [[2 1 0]\n",
            "   [3 1 0]\n",
            "   [1 3 3]]\n",
            "\n",
            "  [[1 0 4]\n",
            "   [1 0 3]\n",
            "   [3 3 3]]\n",
            "\n",
            "  [[0 4 1]\n",
            "   [0 3 0]\n",
            "   [3 3 0]]\n",
            "\n",
            "  [[4 1 0]\n",
            "   [3 0 3]\n",
            "   [3 0 0]]\n",
            "\n",
            "  [[1 0 2]\n",
            "   [0 3 2]\n",
            "   [0 0 2]]\n",
            "\n",
            "  [[0 2 3]\n",
            "   [3 2 3]\n",
            "   [0 2 0]]]\n",
            "\n",
            "\n",
            " [[[4 4 3]\n",
            "   [1 2 1]\n",
            "   [2 1 1]]\n",
            "\n",
            "  [[4 3 1]\n",
            "   [2 1 3]\n",
            "   [1 1 0]]\n",
            "\n",
            "  [[3 1 0]\n",
            "   [1 3 3]\n",
            "   [1 0 1]]\n",
            "\n",
            "  [[1 0 3]\n",
            "   [3 3 3]\n",
            "   [0 1 3]]\n",
            "\n",
            "  [[0 3 0]\n",
            "   [3 3 0]\n",
            "   [1 3 2]]\n",
            "\n",
            "  [[3 0 3]\n",
            "   [3 0 0]\n",
            "   [3 2 3]]\n",
            "\n",
            "  [[0 3 2]\n",
            "   [0 0 2]\n",
            "   [2 3 2]]\n",
            "\n",
            "  [[3 2 3]\n",
            "   [0 2 0]\n",
            "   [3 2 3]]]\n",
            "\n",
            "\n",
            " [[[1 2 1]\n",
            "   [2 1 1]\n",
            "   [0 4 3]]\n",
            "\n",
            "  [[2 1 3]\n",
            "   [1 1 0]\n",
            "   [4 3 3]]\n",
            "\n",
            "  [[1 3 3]\n",
            "   [1 0 1]\n",
            "   [3 3 0]]\n",
            "\n",
            "  [[3 3 3]\n",
            "   [0 1 3]\n",
            "   [3 0 4]]\n",
            "\n",
            "  [[3 3 0]\n",
            "   [1 3 2]\n",
            "   [0 4 4]]\n",
            "\n",
            "  [[3 0 0]\n",
            "   [3 2 3]\n",
            "   [4 4 0]]\n",
            "\n",
            "  [[0 0 2]\n",
            "   [2 3 2]\n",
            "   [4 0 3]]\n",
            "\n",
            "  [[0 2 0]\n",
            "   [3 2 3]\n",
            "   [0 3 4]]]\n",
            "\n",
            "\n",
            " [[[2 1 1]\n",
            "   [0 4 3]\n",
            "   [1 3 2]]\n",
            "\n",
            "  [[1 1 0]\n",
            "   [4 3 3]\n",
            "   [3 2 0]]\n",
            "\n",
            "  [[1 0 1]\n",
            "   [3 3 0]\n",
            "   [2 0 2]]\n",
            "\n",
            "  [[0 1 3]\n",
            "   [3 0 4]\n",
            "   [0 2 1]]\n",
            "\n",
            "  [[1 3 2]\n",
            "   [0 4 4]\n",
            "   [2 1 3]]\n",
            "\n",
            "  [[3 2 3]\n",
            "   [4 4 0]\n",
            "   [1 3 2]]\n",
            "\n",
            "  [[2 3 2]\n",
            "   [4 0 3]\n",
            "   [3 2 1]]\n",
            "\n",
            "  [[3 2 3]\n",
            "   [0 3 4]\n",
            "   [2 1 2]]]\n",
            "\n",
            "\n",
            " [[[0 4 3]\n",
            "   [1 3 2]\n",
            "   [2 1 0]]\n",
            "\n",
            "  [[4 3 3]\n",
            "   [3 2 0]\n",
            "   [1 0 4]]\n",
            "\n",
            "  [[3 3 0]\n",
            "   [2 0 2]\n",
            "   [0 4 4]]\n",
            "\n",
            "  [[3 0 4]\n",
            "   [0 2 1]\n",
            "   [4 4 4]]\n",
            "\n",
            "  [[0 4 4]\n",
            "   [2 1 3]\n",
            "   [4 4 2]]\n",
            "\n",
            "  [[4 4 0]\n",
            "   [1 3 2]\n",
            "   [4 2 0]]\n",
            "\n",
            "  [[4 0 3]\n",
            "   [3 2 1]\n",
            "   [2 0 4]]\n",
            "\n",
            "  [[0 3 4]\n",
            "   [2 1 2]\n",
            "   [0 4 0]]]\n",
            "\n",
            "\n",
            " [[[1 3 2]\n",
            "   [2 1 0]\n",
            "   [2 2 4]]\n",
            "\n",
            "  [[3 2 0]\n",
            "   [1 0 4]\n",
            "   [2 4 4]]\n",
            "\n",
            "  [[2 0 2]\n",
            "   [0 4 4]\n",
            "   [4 4 2]]\n",
            "\n",
            "  [[0 2 1]\n",
            "   [4 4 4]\n",
            "   [4 2 2]]\n",
            "\n",
            "  [[2 1 3]\n",
            "   [4 4 2]\n",
            "   [2 2 0]]\n",
            "\n",
            "  [[1 3 2]\n",
            "   [4 2 0]\n",
            "   [2 0 1]]\n",
            "\n",
            "  [[3 2 1]\n",
            "   [2 0 4]\n",
            "   [0 1 1]]\n",
            "\n",
            "  [[2 1 2]\n",
            "   [0 4 0]\n",
            "   [1 1 1]]]]\n"
          ]
        }
      ],
      "source": [
        "Z = np.random.randint(0,5,(10,10))\n",
        "n = 3\n",
        "i = 1 + (Z.shape[0]-3)\n",
        "j = 1 + (Z.shape[1]-3)\n",
        "C = stride_tricks.as_strided(Z, shape=(i, j, n, n), strides=Z.strides + Z.strides)\n",
        "print (C)"
      ]
    },
    {
      "cell_type": "markdown",
      "metadata": {
        "id": "O9OL8nGxIYa-"
      },
      "source": [
        "#### 85. Create a 2D array subclass such that Z\\[i,j\\] == Z\\[j,i\\] (★★★) \n",
        "(**hint**: class method)"
      ]
    },
    {
      "cell_type": "code",
      "execution_count": 83,
      "metadata": {
        "id": "zHdAe7n8IYa-"
      },
      "outputs": [],
      "source": [
        "\n",
        "class Symetric(np.ndarray):\n",
        "\n",
        "  def __setitem__(self, index, value):\n",
        "\n",
        "    i,j = index\n",
        "\n",
        "    super(Symetric, self).__setitem__((i,j), value)\n",
        "\n",
        "    super(Symetric, self).__setitem__((j,i), value)\n",
        "\n",
        "  def symetric(Z):\n",
        "\n",
        "    return np.asarray(Z + Z.T - np.diag(Z.diagonal())).view(Symetric)\n",
        "\n",
        "    S = symetric(np.random.randint(0,10,(5,5)))\n",
        "\n",
        "    S[2,3] = 42\n",
        "\n",
        "    print(S)"
      ]
    },
    {
      "cell_type": "markdown",
      "metadata": {
        "id": "2UP8SbtrIYa_"
      },
      "source": [
        "#### 86. Consider a set of p matrices wich shape (n,n) and a set of p vectors with shape (n,1). How to compute the sum of of the p matrix products at once? (result has shape (n,1)) (★★★) \n",
        "(**hint**: np.tensordot)"
      ]
    },
    {
      "cell_type": "code",
      "execution_count": 85,
      "metadata": {
        "colab": {
          "base_uri": "https://localhost:8080/"
        },
        "id": "w58LlZq8IYa_",
        "outputId": "87d19ef0-a5f9-40cb-f86c-62584b42a537"
      },
      "outputs": [
        {
          "output_type": "execute_result",
          "data": {
            "text/plain": [
              "array([[200.],\n",
              "       [200.],\n",
              "       [200.],\n",
              "       [200.],\n",
              "       [200.],\n",
              "       [200.],\n",
              "       [200.],\n",
              "       [200.],\n",
              "       [200.],\n",
              "       [200.],\n",
              "       [200.],\n",
              "       [200.],\n",
              "       [200.],\n",
              "       [200.],\n",
              "       [200.],\n",
              "       [200.],\n",
              "       [200.],\n",
              "       [200.],\n",
              "       [200.],\n",
              "       [200.]])"
            ]
          },
          "metadata": {},
          "execution_count": 85
        }
      ],
      "source": [
        "p,n=10,20\n",
        "a=np.ones((p,n,n))\n",
        "b=np.ones((p,n,1))\n",
        "c=np.tensordot(a,b,axes=[[0,2],[0,1]])\n",
        "c"
      ]
    },
    {
      "cell_type": "markdown",
      "metadata": {
        "id": "rHpg9pdiIYa_"
      },
      "source": [
        "#### 87. Consider a 16x16 array, how to get the block-sum (block size is 4x4)? (★★★) \n",
        "(**hint**: np.add.reduceat)"
      ]
    },
    {
      "cell_type": "code",
      "execution_count": 86,
      "metadata": {
        "colab": {
          "base_uri": "https://localhost:8080/"
        },
        "id": "F1wdZd7qIYbA",
        "outputId": "38bb04e6-6d49-4598-d24f-8fbfee23ffb5"
      },
      "outputs": [
        {
          "output_type": "stream",
          "name": "stdout",
          "text": [
            "[[16. 16. 16. 16.]\n",
            " [16. 16. 16. 16.]\n",
            " [16. 16. 16. 16.]\n",
            " [16. 16. 16. 16.]]\n"
          ]
        }
      ],
      "source": [
        "Z = np.ones((16,16))\n",
        "\n",
        "k = 4\n",
        "\n",
        "S = np.add.reduceat(np.add.reduceat(Z, np.arange(0, Z.shape[0], k), axis=0),\n",
        "\n",
        "np.arange(0, Z.shape[1], k), axis=1)\n",
        "\n",
        "print(S)"
      ]
    },
    {
      "cell_type": "markdown",
      "metadata": {
        "id": "OdR6jif4IYbA"
      },
      "source": [
        "#### 88. How to implement the Game of Life using numpy arrays? (★★★)"
      ]
    },
    {
      "cell_type": "code",
      "execution_count": 87,
      "metadata": {
        "colab": {
          "base_uri": "https://localhost:8080/"
        },
        "id": "pbmy5HDVIYbB",
        "outputId": "3f59212d-b331-445c-d51d-b4c2803b630a"
      },
      "outputs": [
        {
          "output_type": "stream",
          "name": "stdout",
          "text": [
            "[[0 0 0 ... 0 0 0]\n",
            " [0 0 0 ... 0 0 0]\n",
            " [0 0 0 ... 0 0 0]\n",
            " ...\n",
            " [0 0 0 ... 0 0 0]\n",
            " [0 0 0 ... 0 0 0]\n",
            " [0 0 0 ... 0 0 0]]\n"
          ]
        }
      ],
      "source": [
        "def iterate(Z):\n",
        "    # Count neighbours\n",
        "    N = (Z[0:-2,0:-2] + Z[0:-2,1:-1] + Z[0:-2,2:] +\n",
        "         Z[1:-1,0:-2] + Z[1:-1,2:] +\n",
        "         Z[2: ,0:-2] + Z[2: ,1:-1] + Z[2: ,2:])\n",
        "\n",
        "    # Apply rules\n",
        "    birth = (N==3) & (Z[1:-1,1:-1]==0)\n",
        "    survive = ((N==2) | (N==3)) & (Z[1:-1,1:-1]==1)\n",
        "    Z[...] = 0\n",
        "    Z[1:-1,1:-1][birth | survive] = 1\n",
        "    return Z\n",
        "\n",
        "Z = np.random.randint(0,2,(50,50))\n",
        "for i in range(100): Z = iterate(Z)\n",
        "print (Z)"
      ]
    },
    {
      "cell_type": "markdown",
      "metadata": {
        "id": "UAr0Qu2VIYbB"
      },
      "source": [
        "#### 89. How to get the n largest values of an array (★★★) \n",
        "(**hint**: np.argsort | np.argpartition)"
      ]
    },
    {
      "cell_type": "code",
      "execution_count": 89,
      "metadata": {
        "colab": {
          "base_uri": "https://localhost:8080/"
        },
        "id": "r4F8ZaxhIYbC",
        "outputId": "21a0805e-87b7-474c-b431-ef46ff2fb69d"
      },
      "outputs": [
        {
          "output_type": "stream",
          "name": "stdout",
          "text": [
            "[99994 99995 99996 99997 99998 99999]\n"
          ]
        }
      ],
      "source": [
        "a=np.arange(100000)\n",
        "np.random.shuffle(a)\n",
        "n=6\n",
        "print(a[np.argsort(a)[-n:]])"
      ]
    },
    {
      "cell_type": "code",
      "source": [
        "print(a[np.argpartition(-a,n)[n:]])"
      ],
      "metadata": {
        "colab": {
          "base_uri": "https://localhost:8080/"
        },
        "id": "mdVbBMvdNKz3",
        "outputId": "0fc85cca-de18-4dcd-aff9-1a6429d62f59"
      },
      "execution_count": 90,
      "outputs": [
        {
          "output_type": "stream",
          "name": "stdout",
          "text": [
            "[99993 99992 99991 ...  7442 25676 52833]\n"
          ]
        }
      ]
    },
    {
      "cell_type": "markdown",
      "metadata": {
        "id": "WE9JpOLtIYbC"
      },
      "source": [
        "#### 90. Given an arbitrary number of vectors, build the cartesian product (every combinations of every item) (★★★) \n",
        "(**hint**: np.indices)"
      ]
    },
    {
      "cell_type": "code",
      "execution_count": 91,
      "metadata": {
        "scrolled": true,
        "colab": {
          "base_uri": "https://localhost:8080/"
        },
        "id": "7qmoHRVVIYbD",
        "outputId": "08724a74-35de-4593-d48e-629fb0cc0fb7"
      },
      "outputs": [
        {
          "output_type": "stream",
          "name": "stdout",
          "text": [
            "[[1 4 6]\n",
            " [1 4 7]\n",
            " [1 5 6]\n",
            " [1 5 7]\n",
            " [2 4 6]\n",
            " [2 4 7]\n",
            " [2 5 6]\n",
            " [2 5 7]\n",
            " [3 4 6]\n",
            " [3 4 7]\n",
            " [3 5 6]\n",
            " [3 5 7]]\n"
          ]
        }
      ],
      "source": [
        "def cartesian(arrays):\n",
        "    arrays = [np.asarray(a) for a in arrays]\n",
        "    shape = (len(x) for x in arrays)\n",
        "\n",
        "    ix = np.indices(shape, dtype=int)\n",
        "    ix = ix.reshape(len(arrays), -1).T\n",
        "\n",
        "    for n, arr in enumerate(arrays):\n",
        "        ix[:, n] = arrays[n][ix[:, n]]\n",
        "\n",
        "    return ix\n",
        "\n",
        "print (cartesian(([1, 2, 3], [4, 5], [6, 7])))"
      ]
    },
    {
      "cell_type": "markdown",
      "metadata": {
        "id": "Hh_BELg8IYbD"
      },
      "source": [
        "#### 91. How to create a record array from a regular array? (★★★) \n",
        "(**hint**: np.core.records.fromarrays)"
      ]
    },
    {
      "cell_type": "code",
      "execution_count": 95,
      "metadata": {
        "colab": {
          "base_uri": "https://localhost:8080/"
        },
        "id": "BElDMYB0IYbE",
        "outputId": "59b3153f-868c-4f23-9771-671693dff82d"
      },
      "outputs": [
        {
          "output_type": "stream",
          "name": "stdout",
          "text": [
            "[(b'Hello', 2.5, 3) (b'World', 3.6, 2)]\n"
          ]
        }
      ],
      "source": [
        "Z = np.array([(\"Hello\", 2.5, 3),\n",
        "              (\"World\", 3.6, 2)])\n",
        "R = np.core.records.fromarrays(Z.T, \n",
        "                               names='col1, col2, col3',\n",
        "                               formats ='S8, f8, i8')\n",
        "print (R)"
      ]
    },
    {
      "cell_type": "markdown",
      "metadata": {
        "id": "ptXrky0IIYbF"
      },
      "source": [
        "#### 92. Consider a large vector Z, compute Z to the power of 3 using 3 different methods (★★★) \n",
        "(**hint**: np.power, \\*, np.einsum)"
      ]
    },
    {
      "cell_type": "code",
      "execution_count": 100,
      "metadata": {
        "colab": {
          "base_uri": "https://localhost:8080/"
        },
        "id": "nVAdBXaWIYbF",
        "outputId": "8055836d-0689-490c-87b5-b60ecf93f9b0"
      },
      "outputs": [
        {
          "output_type": "execute_result",
          "data": {
            "text/plain": [
              "0.005180789144184514"
            ]
          },
          "metadata": {},
          "execution_count": 100
        }
      ],
      "source": [
        "x=np.random.rand()\n",
        "np.power(x,3)\n",
        "\n",
        "x*x*x\n",
        "\n"
      ]
    },
    {
      "cell_type": "markdown",
      "metadata": {
        "id": "QTRgybyJIYbF"
      },
      "source": [
        "#### 93. Consider two arrays A and B of shape (8,3) and (2,2). How to find rows of A that contain elements of each row of B regardless of the order of the elements in B? (★★★) \n",
        "(**hint**: np.where)"
      ]
    },
    {
      "cell_type": "code",
      "execution_count": 102,
      "metadata": {
        "colab": {
          "base_uri": "https://localhost:8080/"
        },
        "id": "g-kISsGDIYbG",
        "outputId": "760d902c-f7f3-4418-d875-5875d558589c"
      },
      "outputs": [
        {
          "output_type": "stream",
          "name": "stdout",
          "text": [
            "[0 2 4 5]\n"
          ]
        }
      ],
      "source": [
        "a= np.random.randint(0,5,(8,3))\n",
        "b= np.random.randint(0,5,(2,2))\n",
        "\n",
        "c= (a[..., np.newaxis, np.newaxis] ==b)\n",
        "rows = np.where(c.any((3,1)).all(1))[0]\n",
        "print (rows)"
      ]
    },
    {
      "cell_type": "markdown",
      "metadata": {
        "id": "2EojBQMXIYbG"
      },
      "source": [
        "#### 94. Considering a 10x3 matrix, extract rows with unequal values (e.g. \\[2,2,3\\]) (★★★)"
      ]
    },
    {
      "cell_type": "code",
      "execution_count": 104,
      "metadata": {
        "colab": {
          "base_uri": "https://localhost:8080/"
        },
        "id": "U-26skNAIYbG",
        "outputId": "7a765fb6-a25c-49e1-e6d3-b2b090ff2aa3"
      },
      "outputs": [
        {
          "output_type": "stream",
          "name": "stdout",
          "text": [
            "[[0 3 0]\n",
            " [1 0 2]\n",
            " [1 1 4]\n",
            " [4 0 2]\n",
            " [2 3 1]\n",
            " [1 0 2]\n",
            " [3 3 4]\n",
            " [0 4 0]\n",
            " [1 4 0]\n",
            " [2 2 4]]\n"
          ]
        }
      ],
      "source": [
        "a=np.random.randint(0,5,(10,3))\n",
        "a\n",
        "\n",
        "e= np.all(a[:,1:] == a[:,:-1], axis=1)\n",
        "u= a[~e]\n",
        "print (u)"
      ]
    },
    {
      "cell_type": "markdown",
      "metadata": {
        "id": "z5tQsstQIYbG"
      },
      "source": [
        "#### 95. Convert a vector of ints into a matrix binary representation (★★★) \n",
        "(**hint**: np.unpackbits)"
      ]
    },
    {
      "cell_type": "code",
      "execution_count": 113,
      "metadata": {
        "colab": {
          "base_uri": "https://localhost:8080/"
        },
        "id": "XI8w-mOjIYbH",
        "outputId": "c97bd698-fb73-4e70-c0d0-b020103f6264"
      },
      "outputs": [
        {
          "output_type": "stream",
          "name": "stdout",
          "text": [
            "[[0 0 0 0 0 0 0 0]\n",
            " [0 0 0 0 0 0 0 1]\n",
            " [0 0 0 0 0 0 1 0]\n",
            " [0 0 0 0 0 0 1 1]\n",
            " [0 0 0 0 1 1 1 1]\n",
            " [0 0 0 1 0 0 0 0]\n",
            " [0 0 1 0 0 0 0 0]\n",
            " [0 1 0 0 0 0 0 0]\n",
            " [1 0 0 0 0 0 0 0]]\n"
          ]
        }
      ],
      "source": [
        "I = np.array([0, 1, 2, 3, 15, 16, 32, 64, 128], dtype=np.uint8)\n",
        "print(np.unpackbits(I[:, np.newaxis], axis=1))"
      ]
    },
    {
      "cell_type": "markdown",
      "metadata": {
        "id": "uEnTHypLIYbH"
      },
      "source": [
        "#### 96. Given a two dimensional array, how to extract unique rows? (★★★) \n",
        "(**hint**: np.ascontiguousarray)"
      ]
    },
    {
      "cell_type": "code",
      "execution_count": 114,
      "metadata": {
        "colab": {
          "base_uri": "https://localhost:8080/"
        },
        "id": "AdVaqlyCIYbH",
        "outputId": "52f4c802-9e43-4047-95ff-783d5b660562"
      },
      "outputs": [
        {
          "output_type": "stream",
          "name": "stdout",
          "text": [
            "[[0 0 0]\n",
            " [0 0 1]\n",
            " [0 1 0]\n",
            " [1 1 0]]\n"
          ]
        }
      ],
      "source": [
        "Z = np.random.randint(0,2,(6,3))\n",
        "\n",
        "T = np.ascontiguousarray(Z).view(np.dtype((np.void, Z.dtype.itemsize * Z.shape[1])))\n",
        "\n",
        "_, idx = np.unique(T, return_index=True)\n",
        "\n",
        "uZ = Z[idx]\n",
        "\n",
        "print(uZ)"
      ]
    },
    {
      "cell_type": "markdown",
      "metadata": {
        "id": "Ddt5AUTaIYbH"
      },
      "source": [
        "#### 97. Considering 2 vectors A & B, write the einsum equivalent of inner, outer, sum, and mul function (★★★) \n",
        "(**hint**: np.einsum)"
      ]
    },
    {
      "cell_type": "code",
      "execution_count": 115,
      "metadata": {
        "colab": {
          "base_uri": "https://localhost:8080/"
        },
        "id": "bzQ2Jw7zIYbI",
        "outputId": "647c358c-1f65-4b5a-e929-2097ee7b4271"
      },
      "outputs": [
        {
          "output_type": "stream",
          "name": "stdout",
          "text": [
            "sum\n",
            "4.510816779333273\n",
            "A * B\n",
            "[0.04450696 0.12180544 0.0764524  0.88056787 0.3091193  0.62809808\n",
            " 0.28858773 0.48201125 0.2059582  0.10672883]\n",
            "inner\n",
            "3.1438360486711248\n",
            "outer\n",
            "[[0.04450696 0.14721861 0.16949322 0.19410164 0.09944906 0.20771455\n",
            "  0.20808254 0.13276114 0.14310609 0.07549612]\n",
            " [0.03682408 0.12180544 0.14023497 0.16059543 0.08228196 0.17185845\n",
            "  0.17216292 0.10984365 0.11840283 0.06246383]\n",
            " [0.02007551 0.06640511 0.0764524  0.08755239 0.04485795 0.09369269\n",
            "  0.09385867 0.05988385 0.0645501  0.03405363]\n",
            " [0.20191172 0.66787677 0.76892852 0.88056787 0.45116385 0.94232466\n",
            "  0.94399407 0.60228854 0.64921979 0.34249818]\n",
            " [0.13834178 0.45760226 0.52683885 0.60332963 0.3091193  0.6456429\n",
            "  0.64678671 0.41266385 0.44481925 0.23466595]\n",
            " [0.13458245 0.44516729 0.51252243 0.58693464 0.30071923 0.62809808\n",
            "  0.6292108  0.40145004 0.43273165 0.2282891 ]\n",
            " [0.06172628 0.20417611 0.23506857 0.26919775 0.13792497 0.28807738\n",
            "  0.28858773 0.18412519 0.1984725  0.10470486]\n",
            " [0.16158986 0.53450149 0.61537315 0.70471808 0.36106623 0.75414201\n",
            "  0.75547804 0.48201125 0.51957032 0.27410114]\n",
            " [0.06405438 0.21187693 0.24393454 0.27935096 0.14312702 0.29894266\n",
            "  0.29947226 0.19106975 0.2059582  0.10865397]\n",
            " [0.06291946 0.20812288 0.23961249 0.2744014  0.14059108 0.29364597\n",
            "  0.29416618 0.18768436 0.20230901 0.10672883]]\n"
          ]
        }
      ],
      "source": [
        "A = np.random.uniform(0,1,10)\n",
        "B = np.random.uniform(0,1,10)\n",
        "print ('sum')\n",
        "print (np.einsum('i->', A))# np.sum(A)\n",
        "\n",
        "print ('A * B')\n",
        "print (np.einsum('i,i->i', A, B)) # A * B\n",
        "\n",
        "print ('inner')\n",
        "print (np.einsum('i,i', A, B)) # np.inner(A, B)\n",
        "\n",
        "print ('outer')\n",
        "print (np.einsum('i,j->ij', A, B)) # np.outer(A, B)"
      ]
    },
    {
      "cell_type": "markdown",
      "metadata": {
        "id": "SFtSPns0IYbI"
      },
      "source": [
        "#### 98. Considering a path described by two vectors (X,Y), how to sample it using equidistant samples (★★★)? \n",
        "(**hint**: np.cumsum, np.interp)"
      ]
    },
    {
      "cell_type": "code",
      "execution_count": 116,
      "metadata": {
        "collapsed": true,
        "id": "wlH7CD02IYbJ"
      },
      "outputs": [],
      "source": [
        "phi = np.arange(0, 10*np.pi, 0.1)\n",
        "\n",
        "a = 1\n",
        "\n",
        "x = a*phi*np.cos(phi)\n",
        "\n",
        "y = a*phi*np.sin(phi)\n",
        "\n",
        "dr = (np.diff(x)**2 + np.diff(y)**2)**.5 # segment lengths\n",
        "\n",
        "r = np.zeros_like(x)\n",
        "\n",
        "r[1:] = np.cumsum(dr) # integrate path\n",
        "\n",
        "r_int = np.linspace(0, r.max(), 200) # regular spaced path\n",
        "\n",
        "x_int = np.interp(r_int, r, x) # integrate path\n",
        "\n",
        "y_int = np.interp(r_int, r, y)"
      ]
    },
    {
      "cell_type": "markdown",
      "metadata": {
        "id": "DLhnj7CyIYbJ"
      },
      "source": [
        "#### 99. Given an integer n and a 2D array X, select from X the rows which can be interpreted as draws from a multinomial distribution with n degrees, i.e., the rows which only contain integers and which sum to n. (★★★) \n",
        "(**hint**: np.logical\\_and.reduce, np.mod)"
      ]
    },
    {
      "cell_type": "code",
      "execution_count": 117,
      "metadata": {
        "colab": {
          "base_uri": "https://localhost:8080/"
        },
        "id": "FDeAGULFIYbJ",
        "outputId": "7acee7df-7527-435d-cf41-ae072dcf827d"
      },
      "outputs": [
        {
          "output_type": "stream",
          "name": "stdout",
          "text": [
            "[[2. 0. 1. 1.]]\n"
          ]
        }
      ],
      "source": [
        "X = np.asarray([[1.0, 0.0, 3.0, 8.0],\n",
        "                [2.0, 0.0, 1.0, 1.0],\n",
        "                [1.5, 2.5, 1.0, 0.0]])\n",
        "n = 4\n",
        "M = np.logical_and.reduce(np.mod(X, 1) == 0, axis=-1)\n",
        "M &= (X.sum(axis=-1) == n)\n",
        "print (X[M])"
      ]
    },
    {
      "cell_type": "markdown",
      "metadata": {
        "id": "7anqa8o7IYbJ"
      },
      "source": [
        "#### 100. Compute bootstrapped 95% confidence intervals for the mean of a 1D array X (i.e., resample the elements of an array with replacement N times, compute the mean of each sample, and then compute percentiles over the means). (★★★) \n",
        "(**hint**: np.percentile)"
      ]
    },
    {
      "cell_type": "code",
      "execution_count": 118,
      "metadata": {
        "colab": {
          "base_uri": "https://localhost:8080/"
        },
        "id": "_hg5gxbkIYbK",
        "outputId": "486aaf4a-61ca-4eee-af63-26310c5b91d0"
      },
      "outputs": [
        {
          "output_type": "stream",
          "name": "stdout",
          "text": [
            "[-0.23564791  0.15331632]\n"
          ]
        }
      ],
      "source": [
        "X = np.random.randn(100) # random 1D array\n",
        "N = 1000 # number of bootstrap samples\n",
        "idx = np.random.randint(0, X.size, (N, X.size))\n",
        "means = X[idx].mean(axis=1)\n",
        "confint = np.percentile(means, [2.5, 97.5])\n",
        "print (confint)"
      ]
    }
  ],
  "metadata": {
    "kernelspec": {
      "display_name": "Python 3",
      "language": "python",
      "name": "python3"
    },
    "language_info": {
      "codemirror_mode": {
        "name": "ipython",
        "version": 3
      },
      "file_extension": ".py",
      "mimetype": "text/x-python",
      "name": "python",
      "nbconvert_exporter": "python",
      "pygments_lexer": "ipython3",
      "version": "3.8.3"
    },
    "colab": {
      "name": "Numpy_tasks.ipynb",
      "provenance": [],
      "include_colab_link": true
    }
  },
  "nbformat": 4,
  "nbformat_minor": 0
}