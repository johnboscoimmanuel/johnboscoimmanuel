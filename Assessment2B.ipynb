{
  "cells": [
    {
      "cell_type": "markdown",
      "metadata": {
        "id": "view-in-github",
        "colab_type": "text"
      },
      "source": [
        "<a href=\"https://colab.research.google.com/github/johnboscoimmanuel/johnboscoimmanuel/blob/main/Assessment2B.ipynb\" target=\"_parent\"><img src=\"https://colab.research.google.com/assets/colab-badge.svg\" alt=\"Open In Colab\"/></a>"
      ]
    },
    {
      "cell_type": "markdown",
      "metadata": {
        "id": "-hsn2zZr6fRB"
      },
      "source": [
        "###### Assessment"
      ]
    },
    {
      "cell_type": "markdown",
      "metadata": {
        "id": "5G5LhJw46fRI"
      },
      "source": [
        "###### I am going to provide two .csv files , you are supposed to work on them and have to provide solutions to the following problems"
      ]
    },
    {
      "cell_type": "markdown",
      "metadata": {
        "id": "JlUkp4hZ6fRK"
      },
      "source": [
        "###### import necessary libraries"
      ]
    },
    {
      "cell_type": "code",
      "execution_count": 4,
      "metadata": {
        "id": "br3SRF6T6fRL"
      },
      "outputs": [],
      "source": [
        "import pandas as pd\n",
        "import numpy as np\n",
        "import matplotlib.pyplot as plt\n",
        "data=pd.read_csv(\"/content/college_1 (1).csv\")\n",
        "data1=pd.read_csv(\"/content/college_2 (1).csv\")"
      ]
    },
    {
      "cell_type": "markdown",
      "metadata": {
        "id": "4wzZgh_X6fRM"
      },
      "source": [
        "###### merge those two csv files (after getting as dataframes, get them as a single dataframe)"
      ]
    },
    {
      "cell_type": "code",
      "execution_count": 5,
      "metadata": {
        "colab": {
          "base_uri": "https://localhost:8080/",
          "height": 144
        },
        "id": "Se3SMGhv6fRO",
        "outputId": "86abb189-61e8-4dc0-f1b5-7b91c63abfb7"
      },
      "outputs": [
        {
          "output_type": "execute_result",
          "data": {
            "text/html": [
              "\n",
              "  <div id=\"df-9fb80342-6653-4e50-aecf-5250b9753f5d\">\n",
              "    <div class=\"colab-df-container\">\n",
              "      <div>\n",
              "<style scoped>\n",
              "    .dataframe tbody tr th:only-of-type {\n",
              "        vertical-align: middle;\n",
              "    }\n",
              "\n",
              "    .dataframe tbody tr th {\n",
              "        vertical-align: top;\n",
              "    }\n",
              "\n",
              "    .dataframe thead th {\n",
              "        text-align: right;\n",
              "    }\n",
              "</style>\n",
              "<table border=\"1\" class=\"dataframe\">\n",
              "  <thead>\n",
              "    <tr style=\"text-align: right;\">\n",
              "      <th></th>\n",
              "      <th>Name</th>\n",
              "      <th>python</th>\n",
              "      <th>mysql</th>\n",
              "      <th>Previous Geekions</th>\n",
              "      <th>CodeKata Score</th>\n",
              "      <th>Department</th>\n",
              "      <th>Rising</th>\n",
              "      <th>python_en</th>\n",
              "      <th>computational_thinking</th>\n",
              "    </tr>\n",
              "  </thead>\n",
              "  <tbody>\n",
              "    <tr>\n",
              "      <th>0</th>\n",
              "      <td>A.Dharani</td>\n",
              "      <td>82.0</td>\n",
              "      <td>20.0</td>\n",
              "      <td>24500</td>\n",
              "      <td>24500</td>\n",
              "      <td>Computer Science and Engineering</td>\n",
              "      <td>0</td>\n",
              "      <td>NaN</td>\n",
              "      <td>NaN</td>\n",
              "    </tr>\n",
              "    <tr>\n",
              "      <th>1</th>\n",
              "      <td>V.JEEVITHA</td>\n",
              "      <td>82.0</td>\n",
              "      <td>20.0</td>\n",
              "      <td>21740</td>\n",
              "      <td>21740</td>\n",
              "      <td>Computer Science and Engineering</td>\n",
              "      <td>0</td>\n",
              "      <td>NaN</td>\n",
              "      <td>NaN</td>\n",
              "    </tr>\n",
              "    <tr>\n",
              "      <th>2</th>\n",
              "      <td>HEMAVATHI.R</td>\n",
              "      <td>100.0</td>\n",
              "      <td>100.0</td>\n",
              "      <td>19680</td>\n",
              "      <td>19680</td>\n",
              "      <td>Computer Science and Engineering</td>\n",
              "      <td>0</td>\n",
              "      <td>NaN</td>\n",
              "      <td>NaN</td>\n",
              "    </tr>\n",
              "  </tbody>\n",
              "</table>\n",
              "</div>\n",
              "      <button class=\"colab-df-convert\" onclick=\"convertToInteractive('df-9fb80342-6653-4e50-aecf-5250b9753f5d')\"\n",
              "              title=\"Convert this dataframe to an interactive table.\"\n",
              "              style=\"display:none;\">\n",
              "        \n",
              "  <svg xmlns=\"http://www.w3.org/2000/svg\" height=\"24px\"viewBox=\"0 0 24 24\"\n",
              "       width=\"24px\">\n",
              "    <path d=\"M0 0h24v24H0V0z\" fill=\"none\"/>\n",
              "    <path d=\"M18.56 5.44l.94 2.06.94-2.06 2.06-.94-2.06-.94-.94-2.06-.94 2.06-2.06.94zm-11 1L8.5 8.5l.94-2.06 2.06-.94-2.06-.94L8.5 2.5l-.94 2.06-2.06.94zm10 10l.94 2.06.94-2.06 2.06-.94-2.06-.94-.94-2.06-.94 2.06-2.06.94z\"/><path d=\"M17.41 7.96l-1.37-1.37c-.4-.4-.92-.59-1.43-.59-.52 0-1.04.2-1.43.59L10.3 9.45l-7.72 7.72c-.78.78-.78 2.05 0 2.83L4 21.41c.39.39.9.59 1.41.59.51 0 1.02-.2 1.41-.59l7.78-7.78 2.81-2.81c.8-.78.8-2.07 0-2.86zM5.41 20L4 18.59l7.72-7.72 1.47 1.35L5.41 20z\"/>\n",
              "  </svg>\n",
              "      </button>\n",
              "      \n",
              "  <style>\n",
              "    .colab-df-container {\n",
              "      display:flex;\n",
              "      flex-wrap:wrap;\n",
              "      gap: 12px;\n",
              "    }\n",
              "\n",
              "    .colab-df-convert {\n",
              "      background-color: #E8F0FE;\n",
              "      border: none;\n",
              "      border-radius: 50%;\n",
              "      cursor: pointer;\n",
              "      display: none;\n",
              "      fill: #1967D2;\n",
              "      height: 32px;\n",
              "      padding: 0 0 0 0;\n",
              "      width: 32px;\n",
              "    }\n",
              "\n",
              "    .colab-df-convert:hover {\n",
              "      background-color: #E2EBFA;\n",
              "      box-shadow: 0px 1px 2px rgba(60, 64, 67, 0.3), 0px 1px 3px 1px rgba(60, 64, 67, 0.15);\n",
              "      fill: #174EA6;\n",
              "    }\n",
              "\n",
              "    [theme=dark] .colab-df-convert {\n",
              "      background-color: #3B4455;\n",
              "      fill: #D2E3FC;\n",
              "    }\n",
              "\n",
              "    [theme=dark] .colab-df-convert:hover {\n",
              "      background-color: #434B5C;\n",
              "      box-shadow: 0px 1px 3px 1px rgba(0, 0, 0, 0.15);\n",
              "      filter: drop-shadow(0px 1px 2px rgba(0, 0, 0, 0.3));\n",
              "      fill: #FFFFFF;\n",
              "    }\n",
              "  </style>\n",
              "\n",
              "      <script>\n",
              "        const buttonEl =\n",
              "          document.querySelector('#df-9fb80342-6653-4e50-aecf-5250b9753f5d button.colab-df-convert');\n",
              "        buttonEl.style.display =\n",
              "          google.colab.kernel.accessAllowed ? 'block' : 'none';\n",
              "\n",
              "        async function convertToInteractive(key) {\n",
              "          const element = document.querySelector('#df-9fb80342-6653-4e50-aecf-5250b9753f5d');\n",
              "          const dataTable =\n",
              "            await google.colab.kernel.invokeFunction('convertToInteractive',\n",
              "                                                     [key], {});\n",
              "          if (!dataTable) return;\n",
              "\n",
              "          const docLinkHtml = 'Like what you see? Visit the ' +\n",
              "            '<a target=\"_blank\" href=https://colab.research.google.com/notebooks/data_table.ipynb>data table notebook</a>'\n",
              "            + ' to learn more about interactive tables.';\n",
              "          element.innerHTML = '';\n",
              "          dataTable['output_type'] = 'display_data';\n",
              "          await google.colab.output.renderOutput(dataTable, element);\n",
              "          const docLink = document.createElement('div');\n",
              "          docLink.innerHTML = docLinkHtml;\n",
              "          element.appendChild(docLink);\n",
              "        }\n",
              "      </script>\n",
              "    </div>\n",
              "  </div>\n",
              "  "
            ],
            "text/plain": [
              "          Name  python  mysql  ...  Rising  python_en computational_thinking\n",
              "0    A.Dharani    82.0   20.0  ...       0        NaN                    NaN\n",
              "1  V.JEEVITHA     82.0   20.0  ...       0        NaN                    NaN\n",
              "2  HEMAVATHI.R   100.0  100.0  ...       0        NaN                    NaN\n",
              "\n",
              "[3 rows x 9 columns]"
            ]
          },
          "metadata": {},
          "execution_count": 5
        }
      ],
      "source": [
        "df=pd.concat([data,data1])\n",
        "df.head(3)"
      ]
    },
    {
      "cell_type": "markdown",
      "metadata": {
        "id": "a5ALrqUF6fRP"
      },
      "source": [
        "###### Take each csv file , split that csv file into multiple categories (example csv files are added in the repo) \n"
      ]
    },
    {
      "cell_type": "markdown",
      "metadata": {
        "id": "ifNexPXq6fRQ"
      },
      "source": [
        "###### consider if the codekata score exceeds 15000 points(present week) then make a csv on those observations as Exceeded expectations.csv\n"
      ]
    },
    {
      "cell_type": "markdown",
      "metadata": {
        "id": "_0q094YT6fRS"
      },
      "source": [
        "###### if  10000<codekata score<15000   (Reached_expectations.csv)\n",
        "\n"
      ]
    },
    {
      "cell_type": "markdown",
      "metadata": {
        "id": "_U6LJSOf6fRU"
      },
      "source": [
        "###### if  7000<codekata score<10000   (Needs_Improvement.csv)\n"
      ]
    },
    {
      "cell_type": "markdown",
      "metadata": {
        "id": "7DY3Ul5w6fRU"
      },
      "source": [
        "###### if  codekate score < 7000        (Unsatisfactory.csv)"
      ]
    },
    {
      "cell_type": "code",
      "source": [
        "df.columns"
      ],
      "metadata": {
        "colab": {
          "base_uri": "https://localhost:8080/"
        },
        "id": "kOazLzXh-eh8",
        "outputId": "feebb09d-0d38-4e96-dceb-cbe150e237d0"
      },
      "execution_count": 6,
      "outputs": [
        {
          "output_type": "execute_result",
          "data": {
            "text/plain": [
              "Index(['Name', 'python', 'mysql', 'Previous Geekions', 'CodeKata Score',\n",
              "       'Department', 'Rising', 'python_en', 'computational_thinking'],\n",
              "      dtype='object')"
            ]
          },
          "metadata": {},
          "execution_count": 6
        }
      ]
    },
    {
      "cell_type": "code",
      "execution_count": 7,
      "metadata": {
        "id": "dfvbeTEN6fRV"
      },
      "outputs": [],
      "source": [
        "Exceeded_expectations=df[(df[\"CodeKata Score\"]>15000)]\n",
        "Exceeded_expectations.to_csv(\"Exceeded expectations.csv\")"
      ]
    },
    {
      "cell_type": "code",
      "execution_count": 8,
      "metadata": {
        "id": "n1zb5EwV6fRW"
      },
      "outputs": [],
      "source": [
        "Reached_expectations=df[(df['CodeKata Score']>10000) & (df['CodeKata Score']<15000)]\n",
        "Reached_expectations.to_csv('Reached_expectations.csv')"
      ]
    },
    {
      "cell_type": "code",
      "source": [
        "Needs_Improvement=df[(df['CodeKata Score']>7000)& (df['CodeKata Score']<10000)]\n",
        "Needs_Improvement.to_csv('Needs_Improvement.csv')"
      ],
      "metadata": {
        "id": "u5Ya2gFh_5a8"
      },
      "execution_count": 9,
      "outputs": []
    },
    {
      "cell_type": "markdown",
      "metadata": {
        "id": "EQLL4C216fRX"
      },
      "source": [
        "###### Average of previous week geekions vs this week geekions (i.e Previous Geekions vs CodeKata Score)"
      ]
    },
    {
      "cell_type": "code",
      "execution_count": 10,
      "metadata": {
        "colab": {
          "base_uri": "https://localhost:8080/"
        },
        "id": "y2LekNPh6fRX",
        "outputId": "9d3906ae-96f2-4ac6-ecce-eccbae915dbc"
      },
      "outputs": [
        {
          "output_type": "stream",
          "name": "stdout",
          "text": [
            "3842.3529411764707\n",
            "4051.764705882353\n"
          ]
        }
      ],
      "source": [
        "print(df['Previous Geekions'].mean())\n",
        "print(df['CodeKata Score'].mean())"
      ]
    },
    {
      "cell_type": "markdown",
      "metadata": {
        "id": "Gddshxg46fRY"
      },
      "source": [
        "###### No of students participated "
      ]
    },
    {
      "cell_type": "code",
      "execution_count": 11,
      "metadata": {
        "colab": {
          "base_uri": "https://localhost:8080/"
        },
        "id": "rOkuLrgl6fRZ",
        "outputId": "d68e2801-b9df-44f2-e310-b890408f20ba"
      },
      "outputs": [
        {
          "output_type": "execute_result",
          "data": {
            "text/plain": [
              "119"
            ]
          },
          "metadata": {},
          "execution_count": 11
        }
      ],
      "source": [
        "len(df['Name'])"
      ]
    },
    {
      "cell_type": "markdown",
      "metadata": {
        "id": "jF3Eyhgy6fRa"
      },
      "source": [
        "###### #Average completion of python course or my_sql or python english or computational thinking"
      ]
    },
    {
      "cell_type": "code",
      "source": [
        "df.columns"
      ],
      "metadata": {
        "colab": {
          "base_uri": "https://localhost:8080/"
        },
        "id": "mAJrPPAyCy8c",
        "outputId": "10c27d88-2273-4d6f-bf03-c8454b4bf460"
      },
      "execution_count": 23,
      "outputs": [
        {
          "output_type": "execute_result",
          "data": {
            "text/plain": [
              "Index(['Name', 'python', 'mysql', 'Previous Geekions', 'CodeKata Score',\n",
              "       'Department', 'Rising', 'python_en', 'computational_thinking'],\n",
              "      dtype='object')"
            ]
          },
          "metadata": {},
          "execution_count": 23
        }
      ]
    },
    {
      "cell_type": "code",
      "execution_count": 12,
      "metadata": {
        "colab": {
          "base_uri": "https://localhost:8080/"
        },
        "id": "sRMhQ7nS6fRa",
        "outputId": "ff01b598-5a4b-45c3-8671-d01ff3f40576"
      },
      "outputs": [
        {
          "output_type": "execute_result",
          "data": {
            "text/plain": [
              "python                    54.352941\n",
              "mysql                     23.500000\n",
              "python_en                 29.657143\n",
              "computational_thinking     2.200000\n",
              "dtype: float64"
            ]
          },
          "metadata": {},
          "execution_count": 12
        }
      ],
      "source": [
        "df[['python','mysql','python_en',\"computational_thinking\"]].mean()"
      ]
    },
    {
      "cell_type": "markdown",
      "metadata": {
        "id": "e3hJZ90W6fRb"
      },
      "source": [
        "###### rising star of the week (top 3 candidate who performed well in that particular week)"
      ]
    },
    {
      "cell_type": "code",
      "execution_count": 13,
      "metadata": {
        "colab": {
          "base_uri": "https://localhost:8080/"
        },
        "id": "SwFGilsf6fRc",
        "outputId": "450523b6-4cd3-4fb7-e83b-9fa5dcafaa31"
      },
      "outputs": [
        {
          "output_type": "execute_result",
          "data": {
            "text/plain": [
              "8     3140\n",
              "2     2000\n",
              "18    2000\n",
              "Name: Rising, dtype: int64"
            ]
          },
          "metadata": {},
          "execution_count": 13
        }
      ],
      "source": [
        "df['Rising'].nlargest(3)"
      ]
    },
    {
      "cell_type": "markdown",
      "metadata": {
        "id": "ndgbFGEo6fRc"
      },
      "source": [
        "###### Shining stars of the week (top 3 candidates who has highest geekions)"
      ]
    },
    {
      "cell_type": "code",
      "execution_count": 14,
      "metadata": {
        "colab": {
          "base_uri": "https://localhost:8080/"
        },
        "id": "Pz6odgr76fRc",
        "outputId": "08404220-1837-44bc-c2f3-d10220d63742"
      },
      "outputs": [
        {
          "output_type": "execute_result",
          "data": {
            "text/plain": [
              "0    24500\n",
              "1    21740\n",
              "2    19680\n",
              "Name: Previous Geekions, dtype: int64"
            ]
          },
          "metadata": {},
          "execution_count": 14
        }
      ],
      "source": [
        "df[\"Previous Geekions\"].nlargest(3)"
      ]
    },
    {
      "cell_type": "markdown",
      "metadata": {
        "id": "cy5mjhDJ6fRd"
      },
      "source": [
        "###### Department wise codekata performence (pie chart)"
      ]
    },
    {
      "cell_type": "code",
      "source": [
        "g=df.groupby('Department')"
      ],
      "metadata": {
        "id": "IZkJwOR9Fa9g"
      },
      "execution_count": 51,
      "outputs": []
    },
    {
      "cell_type": "code",
      "source": [
        "for i,j in g:\n",
        "  print(i)\n",
        "  print(j)"
      ],
      "metadata": {
        "id": "iCXngegcn2CJ",
        "outputId": "9bcdb70e-9590-422b-c0b2-7dec14db72a1",
        "colab": {
          "base_uri": "https://localhost:8080/"
        }
      },
      "execution_count": 52,
      "outputs": [
        {
          "output_type": "stream",
          "name": "stdout",
          "text": [
            "Computer Science and Engineering\n",
            "                 Name  python  mysql  ...  Rising  python_en computational_thinking\n",
            "0           A.Dharani    82.0   20.0  ...       0        NaN                    NaN\n",
            "1         V.JEEVITHA     82.0   20.0  ...       0        NaN                    NaN\n",
            "2         HEMAVATHI.R   100.0  100.0  ...       0        NaN                    NaN\n",
            "3         Mugunthan S   100.0   47.0  ...       0        NaN                    NaN\n",
            "4         Sathammai.S   100.0    8.0  ...       0        NaN                    NaN\n",
            "..                ...     ...    ...  ...     ...        ...                    ...\n",
            "27  Vimalesh Fernando    -1.0    0.0  ...       0        0.0                    0.0\n",
            "28      M.Karthikeyan    -1.0    4.0  ...       0        0.0                    6.0\n",
            "30      praveen raj j    24.0    0.0  ...       0       -1.0                    0.0\n",
            "33               XY Z    -1.0   -1.0  ...       0       20.0                   -1.0\n",
            "34          Hariharan    -1.0   -1.0  ...       0       -1.0                    0.0\n",
            "\n",
            "[63 rows x 9 columns]\n",
            "Electronics and Communication Engineering\n",
            "                          Name  python  ...  python_en  computational_thinking\n",
            "6                KALAIARASAN K    85.0  ...        NaN                     NaN\n",
            "8                   J.SUGANTHI    27.0  ...        NaN                     NaN\n",
            "10             Iyappan Samiraj    50.0  ...        NaN                     NaN\n",
            "14             Melvin Dukles.R    56.0  ...        NaN                     NaN\n",
            "17                 v.vithyasri   100.0  ...        NaN                     NaN\n",
            "18          Abirami Anbazhagan   100.0  ...        NaN                     NaN\n",
            "21                kamalishwari    32.0  ...        NaN                     NaN\n",
            "25                   Tpavithra   100.0  ...        NaN                     NaN\n",
            "27                    shankari    87.5  ...        NaN                     NaN\n",
            "32                  SarumathiR    16.0  ...        NaN                     NaN\n",
            "35                    Barath D    74.0  ...        NaN                     NaN\n",
            "39                     vignesh    85.0  ...        NaN                     NaN\n",
            "42                   ABIRAMI.S    82.0  ...        NaN                     NaN\n",
            "43                  v.gowsalya    53.0  ...        NaN                     NaN\n",
            "46  siva sai perumal polisetti   100.0  ...        NaN                     NaN\n",
            "47                 MadhumathiB    16.0  ...        NaN                     NaN\n",
            "49                    bavithra     0.0  ...        NaN                     NaN\n",
            "50                   Deivani.S     0.0  ...        NaN                     NaN\n",
            "51                   Nivetha.S     0.0  ...        NaN                     NaN\n",
            "52                 GUNAMATHI.S     0.0  ...        NaN                     NaN\n",
            "53                   RANJITH.R   100.0  ...        NaN                     NaN\n",
            "54                    u.abarna     3.0  ...        NaN                     NaN\n",
            "55                kaviyarasi.k    16.0  ...        NaN                     NaN\n",
            "57                     M.PRIYA    43.0  ...        NaN                     NaN\n",
            "58                M.Nisha@mary    11.0  ...        NaN                     NaN\n",
            "60                muvendiran.m   100.0  ...        NaN                     NaN\n",
            "63                    E.Nalini     3.0  ...        NaN                     NaN\n",
            "67                    gousalya    56.0  ...        NaN                     NaN\n",
            "68                 sivaranjini     0.0  ...        NaN                     NaN\n",
            "70                   vignesh B    82.0  ...        NaN                     NaN\n",
            "73              rajesh kumar.r    30.0  ...        NaN                     NaN\n",
            "3              Bodipudi Harini    -1.0  ...        0.0                    -1.0\n",
            "7                    Gowtham R    -1.0  ...       60.0                     6.0\n",
            "14                   Praneetha    -1.0  ...       23.0                    -1.0\n",
            "16                     Guhan S    -1.0  ...       72.0                    39.0\n",
            "24               P.GOVARDHANAN    -1.0  ...       40.0                    -1.0\n",
            "29                   Abishak s    -1.0  ...       55.0                     6.0\n",
            "31                  AMARNATH D    -1.0  ...       52.0                    -1.0\n",
            "32                        bala    32.0  ...       49.0                    -1.0\n",
            "\n",
            "[39 rows x 9 columns]\n",
            "Electronics and Electrical Engineering\n",
            "               Name  python  mysql  ...  Rising  python_en computational_thinking\n",
            "64       k.parvathi   100.0  100.0  ...       0        NaN                    NaN\n",
            "71      m.keerthana    97.5    0.0  ...       0        NaN                    NaN\n",
            "72       Subhashini   100.0    4.0  ...       0        NaN                    NaN\n",
            "74  J.Bhuvaneshwari   100.0   20.0  ...       0        NaN                    NaN\n",
            "75         santhosh    82.0   12.0  ...       0        NaN                    NaN\n",
            "77       J.JAYANTHI   100.0  100.0  ...       0        NaN                    NaN\n",
            "78     vikneshwaran   100.0    4.0  ...       0        NaN                    NaN\n",
            "79     KarthikeyanS    45.0    0.0  ...       0        NaN                    NaN\n",
            "80         BARATH.P    29.0    0.0  ...       0        NaN                    NaN\n",
            "81    N.Ajith kumar    82.0    0.0  ...       0        NaN                    NaN\n",
            "82     mohamed nabi     0.0    0.0  ...       0        NaN                    NaN\n",
            "83   yaser ahamed.A     0.0   27.0  ...       0        NaN                    NaN\n",
            "0     ASHOK KUMAR K   100.0   31.0  ...       0        0.0                    9.0\n",
            "4         VIINU V P    -1.0   24.0  ...       0      100.0                   -1.0\n",
            "8          shifak N    58.0    0.0  ...    3140        0.0                    0.0\n",
            "9           Balaji     -1.0   20.0  ...    1990      100.0                    0.0\n",
            "12         JPradhap   100.0    0.0  ...     690        0.0                    0.0\n",
            "\n",
            "[17 rows x 9 columns]\n"
          ]
        }
      ]
    },
    {
      "cell_type": "code",
      "source": [
        "g['Department']"
      ],
      "metadata": {
        "id": "JMi-Aw2hwE-G",
        "outputId": "0d8a2f9c-dac6-48ce-c0d2-4e452576458e",
        "colab": {
          "base_uri": "https://localhost:8080/"
        }
      },
      "execution_count": 64,
      "outputs": [
        {
          "output_type": "execute_result",
          "data": {
            "text/plain": [
              "<pandas.core.groupby.generic.SeriesGroupBy object at 0x7f6c62755450>"
            ]
          },
          "metadata": {},
          "execution_count": 64
        }
      ]
    },
    {
      "cell_type": "code",
      "source": [
        "g.mean()['CodeKata Score']\n",
        "label=['Computer Science and Engineering','Electronics and Communication Engineering','Electronics and Electrical Engineering']"
      ],
      "metadata": {
        "id": "h5_WaFdDo0_1"
      },
      "execution_count": 65,
      "outputs": []
    },
    {
      "cell_type": "code",
      "execution_count": 67,
      "metadata": {
        "colab": {
          "base_uri": "https://localhost:8080/",
          "height": 319
        },
        "id": "Vj0kePfR6fRd",
        "outputId": "51f6b9d3-2872-4c16-d0b4-7cf1154a90fb"
      },
      "outputs": [
        {
          "output_type": "display_data",
          "data": {
            "image/png": "[encoded data removed]",
            "text/plain": [
              "<Figure size 360x360 with 1 Axes>"
            ]
          },
          "metadata": {}
        }
      ],
      "source": [
        "fig=plt.figure(figsize=(5,5))\n",
        "plt.pie(g.mean()['CodeKata Score'],labels=label)\n",
        "plt.title(\"Department wise CodeKata Score\")\n",
        "plt.show()"
      ]
    },
    {
      "cell_type": "markdown",
      "metadata": {
        "id": "NIkNd2hD6fRe"
      },
      "source": [
        "###### Department wise toppers (horizantal bar graph or any visual representations of your choice)"
      ]
    }
  ],
  "metadata": {
    "kernelspec": {
      "display_name": "Python 3",
      "language": "python",
      "name": "python3"
    },
    "language_info": {
      "codemirror_mode": {
        "name": "ipython",
        "version": 3
      },
      "file_extension": ".py",
      "mimetype": "text/x-python",
      "name": "python",
      "nbconvert_exporter": "python",
      "pygments_lexer": "ipython3",
      "version": "3.8.3"
    },
    "colab": {
      "name": "Assessment2B.ipynb",
      "provenance": [],
      "include_colab_link": true
    }
  },
  "nbformat": 4,
  "nbformat_minor": 0
}