{
  "nbformat": 4,
  "nbformat_minor": 0,
  "metadata": {
    "colab": {
      "name": "Login and file handling.ipynb",
      "provenance": [],
      "collapsed_sections": []
    },
    "kernelspec": {
      "name": "python3",
      "display_name": "Python 3"
    },
    "language_info": {
      "name": "python"
    }
  },
  "cells": [
    {
      "cell_type": "code",
      "execution_count": 4,
      "metadata": {
        "colab": {
          "base_uri": "https://localhost:8080/"
        },
        "id": "NCGEeQS3ixg-",
        "outputId": "bde78b71-dc55-4477-fe47-f7f5876624ab"
      },
      "outputs": [
        {
          "output_type": "stream",
          "name": "stdout",
          "text": [
            "\n",
            "1.Register \n",
            "2.Login \n",
            "3.exit\n",
            "Enter Valid number: 2\n",
            "Username : kaaja@gmail.com\n",
            "Password : Avbcd2\n",
            "\n",
            "1.forget password or \n",
            "2.register\n",
            "choose 1 or 21\n",
            "username: kaaja@gmail.com\n",
            "password:  Abcd@1234\n",
            "login\n",
            "Username : kaaja@gmail.com\n",
            "Password : Abcd@1234\n",
            "welcome you are logged\n"
          ]
        }
      ],
      "source": [
        "import re\n",
        "#while True:\n",
        "print(\"\\n1.Register \\n2.Login \\n3.exit\")\n",
        "choice=int(input(\"Enter Valid number: \"))\n",
        "if choice==1:\n",
        "    email_pas()\n",
        "elif choice==2:\n",
        "    login()\n",
        "elif choice==3:\n",
        "    quit()\n",
        "else:\n",
        "    print(\"invalid key\")"
      ]
    },
    {
      "cell_type": "code",
      "source": [
        "def email_pas():\n",
        "\n",
        "  regex_n=\"^[a-z0-9]+[\\._]?[a-z 0-9]+[@]\\w+[.]\\w{2,3}$\"\n",
        "  regex_p=\"^[A-Z a-z 0-9!@#$%&*]\"\n",
        "\n",
        "  while True:\n",
        "    usern=input(\"Enter Email-id : \")  \n",
        "    if re.search(regex_n,usern):\n",
        "      pas=input(\"Create password : \")\n",
        "      if len(pas)>=5 and len(pas)<=16:\n",
        "        if re.search(regex_p,pas):\n",
        "          pasc=input(\"Create Confirm password : \")\n",
        "          if pas==pasc:\n",
        "            print(\"Register\")\n",
        "            add=open(\"db.txt\",\"a\")\n",
        "            add.write(usern+\",\"+pasc)\n",
        "            add.write(\"\\n\")\n",
        "            add.close()\n",
        "            break\n",
        "          else:\n",
        "            print(\"Password not match\")\n",
        "            #return pas\n",
        "        else:\n",
        "            print(\"password using atlest \\none alphapet! \\none number! \\none special character!\")\n",
        "      else:\n",
        "        print(\"password 5-16 characters\")\n",
        "    else:\n",
        "      print(\"invalid Email-id\")"
      ],
      "metadata": {
        "id": "eUGN3w07iz2O"
      },
      "execution_count": 1,
      "outputs": []
    },
    {
      "cell_type": "code",
      "source": [
        "def login():\n",
        "    \n",
        "    usern=input(\"Username : \")\n",
        "    pas=input(\"Password : \")\n",
        "    #found=False\n",
        "    with open(\"db.txt\",\"r\") as file:\n",
        "        for line in file:          \n",
        "            u,p=line.strip().split(\",\")\n",
        "            #print(u,p)\n",
        "            if usern==u and pas!=p:\n",
        "                print(\"\\n1.forget password or \\n2.register\")\n",
        "                user=int(input(\"choose 1 or 2\"))\n",
        "                if user==1:\n",
        "                    usern=input(\"username: \")\n",
        "                    if usern==u:\n",
        "                        print(\"password: \",p[::])\n",
        "                        print (\"login\")\n",
        "                        login()\n",
        "                        break\n",
        "                        if user==2:\n",
        "                            email_pas()\n",
        "            elif usern==u and pas==p:\n",
        "                print(\"welcome you are logged\")\n",
        "                #found=True\n",
        "                break\n",
        "#     if not found:\n",
        "#         print(\"try again or Register\")\n",
        "\n",
        "            \n",
        "\n",
        "    "
      ],
      "metadata": {
        "id": "CE3SmY5vi32l"
      },
      "execution_count": 2,
      "outputs": []
    }
  ]
}